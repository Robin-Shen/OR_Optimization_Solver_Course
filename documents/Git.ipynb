{
 "cells": [
  {
   "cell_type": "code",
   "execution_count": null,
   "id": "c302fe95",
   "metadata": {},
   "outputs": [],
   "source": [
    "### Note that it's a git tutorial, which meant to be run in a terminal. For illustration purpose."
   ]
  },
  {
   "cell_type": "code",
   "execution_count": 4,
   "id": "c3a4dbbf",
   "metadata": {},
   "outputs": [],
   "source": [
    "# copy existing ssh key to clip board for adding into github account (mac)\n",
    "%cat ~/.ssh/id_rsa.pub | pbcopy"
   ]
  },
  {
   "cell_type": "code",
   "execution_count": 3,
   "id": "7df743f2",
   "metadata": {
    "vscode": {
     "languageId": "powershell"
    }
   },
   "outputs": [
    {
     "ename": "SyntaxError",
     "evalue": "invalid syntax (1878497432.py, line 2)",
     "output_type": "error",
     "traceback": [
      "\u001b[0;36m  Input \u001b[0;32mIn [3]\u001b[0;36m\u001b[0m\n\u001b[0;31m    git clone git@github.com:Robin-Shen/OR_Optimization_Solver_Course.git OR_course2025\u001b[0m\n\u001b[0m        ^\u001b[0m\n\u001b[0;31mSyntaxError\u001b[0m\u001b[0;31m:\u001b[0m invalid syntax\n"
     ]
    }
   ],
   "source": [
    "# goto a folder where you want to clone the remote repository\n",
    "git clone git@github.com:Robin-Shen/OR_Optimization_Solver_Course.git OR_course2025"
   ]
  },
  {
   "cell_type": "markdown",
   "id": "8f6a756b",
   "metadata": {},
   "source": [
    "Cloning into 'OR_course2024'...\n",
    "The authenticity of host 'github.com (20.205.243.166)' can't be established.\n",
    "ED25519 key fingerprint is SHA256:+DiY3wvvV6TuJJhbpZisF/zLDA0zPMSvHdkr4UvCOqU.\n",
    "This key is not known by any other names\n",
    "Are you sure you want to continue connecting (yes/no/[fingerprint])? y\n",
    "Please type 'yes', 'no' or the fingerprint: yes\n",
    "Warning: Permanently added 'github.com' (ED25519) to the list of known hosts.\n",
    "remote: Enumerating objects: 5, done.\n",
    "remote: Counting objects: 100% (5/5), done.\n",
    "remote: Compressing objects: 100% (5/5), done.\n",
    "remote: Total 5 (delta 0), reused 0 (delta 0), pack-reused 0\n",
    "Receiving objects: 100% (5/5), 14.03 KiB | 3.51 MiB/s, done."
   ]
  },
  {
   "cell_type": "code",
   "execution_count": 3,
   "id": "d7ec2620",
   "metadata": {},
   "outputs": [
    {
     "ename": "SyntaxError",
     "evalue": "invalid syntax (96977885.py, line 2)",
     "output_type": "error",
     "traceback": [
      "\u001b[0;36m  Cell \u001b[0;32mIn[3], line 2\u001b[0;36m\u001b[0m\n\u001b[0;31m    git status\u001b[0m\n\u001b[0m        ^\u001b[0m\n\u001b[0;31mSyntaxError\u001b[0m\u001b[0;31m:\u001b[0m invalid syntax\n"
     ]
    }
   ],
   "source": [
    "# goto home folder of local workspace and check git status\n",
    "git status"
   ]
  },
  {
   "cell_type": "markdown",
   "id": "418da029",
   "metadata": {},
   "source": [
    "On branch master\n",
    "Your branch is up to date with 'origin/master'.\n",
    "\n",
    "nothing to commit, working tree clean"
   ]
  },
  {
   "cell_type": "code",
   "execution_count": 3,
   "id": "853fe168",
   "metadata": {},
   "outputs": [
    {
     "name": "stdout",
     "output_type": "stream",
     "text": [
      "[Errno 2] No such file or directory: '.git'\n",
      "/Users/legend/Desktop/coding_project/OR_course2023/Git\n",
      "Git.ipynb         \u001b[31mgit_tutorial.key\u001b[m\u001b[m* git_tutorial.pdf\n"
     ]
    }
   ],
   "source": [
    "# goto .git folder and list all files\n",
    "%cd .git\n",
    "%ls"
   ]
  },
  {
   "cell_type": "markdown",
   "id": "93a2d5fa",
   "metadata": {},
   "source": [
    "HEAD\t\tdescription\tindex\t\tlogs\t\tpacked-refs\n",
    "config\t\thooks\t\tinfo\t\tobjects\t\trefs"
   ]
  },
  {
   "cell_type": "code",
   "execution_count": 4,
   "id": "e4ff1641",
   "metadata": {},
   "outputs": [
    {
     "name": "stderr",
     "output_type": "stream",
     "text": [
      "UsageError: Line magic function `%git` not found.\n"
     ]
    }
   ],
   "source": [
    "# modify readme, then git status\n",
    "git status"
   ]
  },
  {
   "cell_type": "markdown",
   "id": "a4afa33f",
   "metadata": {},
   "source": [
    "On branch master\n",
    "Your branch is up to date with 'origin/master'.\n",
    "\n",
    "Changes not staged for commit:\n",
    "  (use \"git add <file>...\" to update what will be committed)\n",
    "  (use \"git restore <file>...\" to discard changes in working directory)\n",
    "        modified:   README.md\n",
    "\n",
    "no changes added to commit (use \"git add\" and/or \"git commit -a\")"
   ]
  },
  {
   "cell_type": "code",
   "execution_count": null,
   "id": "69fc0020",
   "metadata": {},
   "outputs": [],
   "source": [
    "# git add the file to index, then check the status\n",
    "git add README.md\n",
    "git status"
   ]
  },
  {
   "cell_type": "markdown",
   "id": "26fdb8eb",
   "metadata": {},
   "source": [
    "On branch master\n",
    "Your branch is up to date with 'origin/master'.\n",
    "\n",
    "Changes to be committed:\n",
    "  (use \"git restore --staged <file>...\" to unstage)\n",
    "        modified:   README.md"
   ]
  },
  {
   "cell_type": "code",
   "execution_count": null,
   "id": "6c0de904",
   "metadata": {},
   "outputs": [],
   "source": [
    "# git commit to add to local repository\n",
    "git commit -m \"delete one char in README.md\""
   ]
  },
  {
   "cell_type": "markdown",
   "id": "aac4b2e9",
   "metadata": {},
   "source": [
    "[master 7ba5ab0] delete one char in README.md\n",
    " 1 file changed, 1 insertion(+), 1 deletion(-)"
   ]
  },
  {
   "cell_type": "code",
   "execution_count": null,
   "id": "7f015c10",
   "metadata": {},
   "outputs": [],
   "source": [
    "# check status\n",
    "git status"
   ]
  },
  {
   "cell_type": "markdown",
   "id": "eca216de",
   "metadata": {},
   "source": [
    "On branch master\n",
    "Your branch is ahead of 'origin/master' by 1 commit.\n",
    "  (use \"git push\" to publish your local commits)\n",
    "\n",
    "nothing to commit, working tree clean"
   ]
  },
  {
   "cell_type": "code",
   "execution_count": null,
   "id": "47b5d363",
   "metadata": {},
   "outputs": [],
   "source": [
    "# check local repository log\n",
    "git log"
   ]
  },
  {
   "cell_type": "markdown",
   "id": "08f2aac6",
   "metadata": {},
   "source": [
    "commit 7ba5ab046d6b694c93afce9ef234da307605a408 (HEAD -> master)\n",
    "Author: Robin_Sen <rshen@g.clemson.edu>\n",
    "Date:   Fri Jul 21 21:20:45 2023 +0800\n",
    "\n",
    "    delete one char in README.md\n",
    "\n",
    "commit a713e2baa0411c54e575e398255fa07917471c9d (origin/master, origin/HEAD)\n",
    "Author: Robin_Sen <rshen@g.clemson.edu>\n",
    "Date:   Fri Jul 21 20:14:25 2023 +0800\n",
    "\n",
    "    add lecturers info\n",
    "\n",
    "commit 285ee7bcf6cf6f282cd4734e2812af9ee3787ee0\n",
    "Author: 留德华叫兽 <rshen@g.clemson.edu>\n",
    "Date:   Fri Jul 21 16:59:02 2023 +0800\n",
    "\n",
    "\n",
    "zsh: suspended  git log"
   ]
  },
  {
   "cell_type": "code",
   "execution_count": null,
   "id": "1646001b",
   "metadata": {},
   "outputs": [],
   "source": [
    "# push local repository to remote\n",
    "git push"
   ]
  },
  {
   "cell_type": "markdown",
   "id": "c3b57ea4",
   "metadata": {},
   "source": [
    "Enumerating objects: 5, done.\n",
    "Counting objects: 100% (5/5), done.\n",
    "Delta compression using up to 8 threads\n",
    "Compressing objects: 100% (3/3), done.\n",
    "Writing objects: 100% (3/3), 295 bytes | 295.00 KiB/s, done.\n",
    "Total 3 (delta 2), reused 0 (delta 0), pack-reused 0\n",
    "remote: Resolving deltas: 100% (2/2), completed with 2 local objects.\n",
    "To github.com:Robin-Shen/OR_course2023.git\n",
    "   a713e2b..7ba5ab0  master -> master"
   ]
  },
  {
   "cell_type": "code",
   "execution_count": null,
   "id": "d88cac59",
   "metadata": {},
   "outputs": [],
   "source": [
    "# git checkout remote branch 'Robin'\n",
    "git fetch\n",
    "git switch Robin\n",
    "\n",
    "# or use the following\n",
    "git checkout --track origin/Robin"
   ]
  }
 ],
 "metadata": {
  "kernelspec": {
   "display_name": "Python 3 (ipykernel)",
   "language": "python",
   "name": "python3"
  },
  "language_info": {
   "codemirror_mode": {
    "name": "ipython",
    "version": 3
   },
   "file_extension": ".py",
   "mimetype": "text/x-python",
   "name": "python",
   "nbconvert_exporter": "python",
   "pygments_lexer": "ipython3",
   "version": "3.9.6"
  }
 },
 "nbformat": 4,
 "nbformat_minor": 5
}
