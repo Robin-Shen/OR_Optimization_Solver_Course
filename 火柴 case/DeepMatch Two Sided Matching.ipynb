{
 "cells": [
  {
   "cell_type": "code",
   "execution_count": 18,
   "metadata": {},
   "outputs": [],
   "source": [
    "import pandas as pd\n",
    "import numpy as np\n",
    "import time\n",
    "\n",
    "# 读取女性评分\n",
    "with open(\"Scores_for_Women.txt\", \"r\") as f:\n",
    "    w_to_m_data = f.readlines()[1:]\n",
    "\n",
    "# 转化为矩阵 w_to_m_score_matrix[i][j] 为 女性i对男性j的评分\n",
    "w_to_m_Scores = []    \n",
    "for i in range(len(w_to_m_data)):\n",
    "    w_to_m_Scores.append([float(ii) for ii in w_to_m_data[i].strip('\\n').split(' ')[:-1]])\n",
    "    \n",
    "w_to_m_score_matrix = np.array(w_to_m_Scores)\n",
    "\n",
    "# 读取女性评分\n",
    "with open(\"Scores_for_Men.txt\", \"r\") as f:\n",
    "    m_to_w_data = f.readlines()[1:]\n",
    "\n",
    "# 转化为矩阵 m_to_w_score_matrix[i][j] 为 男性i对女性j的评分    \n",
    "m_to_w_Scores = []    \n",
    "for i in range(len(m_to_w_data)):\n",
    "    m_to_w_Scores.append([float(ii) for ii in m_to_w_data[i].strip('\\n').split(' ')[:-1]])\n",
    "    \n",
    "m_to_w_score_matrix = np.array(m_to_w_Scores)\n",
    "\n",
    "\n",
    "# 读取拒绝列表\n",
    "with open(\"Reject_List.txt\", \"r\") as f:\n",
    "    reject_data = f.readlines()[1:]\n",
    "\n",
    "# 转化为列表 \n",
    "reject_list = []    \n",
    "for i in range(len(reject_data)):\n",
    "    reject_list.append([int(ii) for ii in reject_data[i].strip('\\n').split(' ')])\n",
    "    \n",
    "# print('reject_list', reject_list)\n",
    "\n",
    "W_dict = {} # 女性可接受词典\n",
    "M_dict = {} # 男性可接受词典\n",
    "\n",
    "for i in range(68):\n",
    "    W_dict[i] = [i for i in range(68)]\n",
    "    M_dict[i] = [i for i in range(68)]\n",
    "\n",
    "for j in reject_list: # 按拒绝列表移除不接受的用户\n",
    "    W_dict[j[0]].remove(j[1])\n",
    "    M_dict[j[1]].remove(j[0])\n"
   ]
  },
  {
   "cell_type": "code",
   "execution_count": 19,
   "metadata": {},
   "outputs": [],
   "source": [
    "# 使用调和平均数计算 双向评分\n",
    "weight_matrix = 2/(1/(m_to_w_score_matrix.T) + 1/w_to_m_score_matrix) # weight_matrix[0][1] score between women 1 and men 2"
   ]
  },
  {
   "cell_type": "markdown",
   "metadata": {},
   "source": [
    "# 计算 模型需要使用的参数"
   ]
  },
  {
   "cell_type": "code",
   "execution_count": 20,
   "metadata": {},
   "outputs": [],
   "source": [
    "# 根据单向分数矩阵  计算 女性用户 i 在 男性用户 j 中的排名 和 男性用户 j 在 女性用户 i 中的排名\n",
    "\n",
    "def find_max_position(input_array):\n",
    "    # 查找数组中最大的数的坐标（可能是多个）\n",
    "    # 如最大为 -1 则输出 [-1]\n",
    "    max_number = max(input_array)\n",
    "    if int(max_number) == -1:\n",
    "        return [-1]\n",
    "    index = np.where(max_number == input_array)[0]\n",
    "    return index\n",
    "\n",
    "w_m_score = w_to_m_score_matrix.copy()\n",
    "m_w_score = m_to_w_score_matrix.copy()\n",
    "\n",
    "w_to_m_rank = np.zeros((68,68))\n",
    "m_to_w_rank = np.zeros((68,68))\n",
    "\n",
    "\n",
    "\n",
    "for i in range(68):\n",
    "    rank = 1\n",
    "    while rank < 68:\n",
    "\n",
    "        index_save = find_max_position(w_m_score[i])\n",
    "#         print(index_save)\n",
    "        if -1 in index_save:\n",
    "            break\n",
    "\n",
    "        for ii in index_save:\n",
    "            w_m_score[i][ii] = -1\n",
    "            w_to_m_rank[i][ii] = rank\n",
    "\n",
    "        rank += 1\n",
    "\n",
    "        \n",
    "for i in range(68):\n",
    "    rank = 1\n",
    "    while rank < 68:\n",
    "\n",
    "        index_save = find_max_position(m_w_score[i])\n",
    "#         print(index_save)\n",
    "        if -1 in index_save:\n",
    "            break\n",
    "\n",
    "        for ii in index_save:\n",
    "            m_w_score[i][ii] = -1\n",
    "            m_to_w_rank[i][ii] = rank\n",
    "\n",
    "        rank += 1"
   ]
  },
  {
   "cell_type": "code",
   "execution_count": 21,
   "metadata": {},
   "outputs": [
    {
     "data": {
      "text/plain": [
       "array([12.,  9., 12.,  9.,  3.,  7., 21.,  2.,  9., 15.,  9.,  7., 11.,\n",
       "       12.,  4.,  7.,  6.,  9., 16., 26.,  9.,  9., 10., 20., 25.,  9.,\n",
       "        2.,  5.,  9.,  9.,  9.,  7.,  7., 12.,  7., 12., 14.,  7., 14.,\n",
       "        7.,  2.,  7., 19., 16., 23., 26.,  8., 18.,  9., 12., 23.,  2.,\n",
       "       12.,  9., 12., 14.,  2., 16., 22., 17.,  1.,  9.,  9., 26.,  9.,\n",
       "       15., 24., 13.])"
      ]
     },
     "execution_count": 21,
     "metadata": {},
     "output_type": "execute_result"
    }
   ],
   "source": [
    "m_to_w_rank[0] # 男性 0 的女性用户排名"
   ]
  },
  {
   "cell_type": "code",
   "execution_count": 22,
   "metadata": {},
   "outputs": [
    {
     "data": {
      "text/plain": [
       "array([29., 25., 35.,  2., 22.,  4.,  4., 18., 34., 26., 13., 11.,  1.,\n",
       "       22., 41., 20., 28., 24., 15.,  1., 31.,  4., 10., 15., 20.,  8.,\n",
       "       15., 32., 34.,  2., 33., 17., 19., 20.,  6.,  4., 26., 12., 27.,\n",
       "       24., 14., 21., 22.,  7., 16., 28., 36., 37., 25., 28., 20.,  5.,\n",
       "       15., 40.,  3., 15., 18., 39., 20.,  9., 15., 30., 25.,  4., 39.,\n",
       "       23., 26., 38.])"
      ]
     },
     "execution_count": 22,
     "metadata": {},
     "output_type": "execute_result"
    }
   ],
   "source": [
    "w_to_m_rank[0]"
   ]
  },
  {
   "cell_type": "markdown",
   "metadata": {},
   "source": [
    "# 计算 “更喜欢或漠然集合”"
   ]
  },
  {
   "cell_type": "code",
   "execution_count": 23,
   "metadata": {},
   "outputs": [],
   "source": [
    "w_to_m_better_or_indiff_than = [[[]for i in range(68)] for j in range(68)] # empty\n",
    "\n",
    "# women to men\n",
    "for i in range(68): # women i\n",
    "    for j in range(68): # men j\n",
    "        rank = w_to_m_rank[i][j]\n",
    "        set_of_men = list(np.where(w_to_m_rank[i] <= rank)[0])\n",
    "        w_to_m_better_or_indiff_than[i][j] = set_of_men\n",
    "        \n",
    "for r in reject_list:\n",
    "    for i in range(68):\n",
    "        if r[0] == i:\n",
    "            for j in range(68):\n",
    "                if r[1] in w_to_m_better_or_indiff_than[i][j]:\n",
    "                    w_to_m_better_or_indiff_than[i][j].remove(r[1])"
   ]
  },
  {
   "cell_type": "code",
   "execution_count": 24,
   "metadata": {},
   "outputs": [
    {
     "data": {
      "text/plain": [
       "[3, 12, 19, 29]"
      ]
     },
     "execution_count": 24,
     "metadata": {},
     "output_type": "execute_result"
    }
   ],
   "source": [
    "w_to_m_better_or_indiff_than[0][3] # the set of men that woman 0 ranks at the same level or better than man 3"
   ]
  },
  {
   "cell_type": "code",
   "execution_count": 25,
   "metadata": {},
   "outputs": [],
   "source": [
    "m_to_w_better_or_indiff_than = [[[]for i in range(68)] for j in range(68)] # empty\n",
    "# men to women\n",
    "for i in range(68): # men i\n",
    "    for j in range(68): # women j\n",
    "        rank = m_to_w_rank[i][j]\n",
    "        set_of_women = list(np.where(m_to_w_rank[i] <= rank)[0])\n",
    "        m_to_w_better_or_indiff_than[i][j] = set_of_women\n",
    "        \n",
    "for r in reject_list:\n",
    "    for i in range(68):\n",
    "        if r[1] == i:\n",
    "            for j in range(68):\n",
    "                if r[0] in m_to_w_better_or_indiff_than[i][j]:\n",
    "                    m_to_w_better_or_indiff_than[i][j].remove(r[0])"
   ]
  },
  {
   "cell_type": "code",
   "execution_count": 26,
   "metadata": {},
   "outputs": [
    {
     "data": {
      "text/plain": [
       "[4, 7, 11, 14, 15, 16, 26, 27, 31, 32, 34, 37, 39, 40, 41, 51, 56, 60]"
      ]
     },
     "execution_count": 26,
     "metadata": {},
     "output_type": "execute_result"
    }
   ],
   "source": [
    "m_to_w_better_or_indiff_than[0][5] # the set of women that man 0 ranks at the same level or better than woman 5"
   ]
  },
  {
   "cell_type": "markdown",
   "metadata": {},
   "source": [
    "# MIP SOLVER"
   ]
  },
  {
   "cell_type": "markdown",
   "metadata": {},
   "source": [
    "# Assignment Problem, MAX-WT-SMTI-GRP"
   ]
  },
  {
   "cell_type": "code",
   "execution_count": 27,
   "metadata": {},
   "outputs": [],
   "source": [
    "from mip import *\n",
    "\n",
    "\n",
    "\n",
    "def MIP_Solver(Optimize_Direction = 'MAXIMIZE', Additional_Const = 'stable', Show_infor = False, OF = 'Maximize Weight'):\n",
    "    # 最大化权重模型（无稳定性）：Optimize_Direction = 'MAXIMIZE', Additional_Const = 'unstable', OF = 'Maximize Weight' \n",
    "    # 稳定性模型：\n",
    "    # 1.最大化权重：Optimize_Direction = 'MAXIMIZE', Additional_Const = 'stable', OF = 'Maximize Weight' \n",
    "    # 2.最小化总rank：Optimize_Direction = 'MINIMIZE', Additional_Const = 'stable', OF = 'Egalitarian'  \n",
    "    \n",
    "    \n",
    "    if Optimize_Direction == 'MAXIMIZE':\n",
    "        \n",
    "        SMTI = Model(sense=MAXIMIZE, solver_name=GRB)\n",
    "        \n",
    "    elif Optimize_Direction == 'MINIMIZE':\n",
    "        \n",
    "        SMTI = Model(sense=MINIMIZE, solver_name=GRB)\n",
    "        \n",
    "    num_female = 68\n",
    "    num_male = 68\n",
    "\n",
    "    I = set(range(num_female))\n",
    "    J = set(range(num_male))\n",
    "\n",
    "    x = [[SMTI.add_var(var_type=BINARY) for j in J] for i in I] # Decision Variable\n",
    "\n",
    "    if OF == 'Maximize Weight':\n",
    "        SMTI.objective = xsum(weight_matrix[i][j]*x[i][j] for i in I for j in W_dict[i])\n",
    "    elif OF == 'Egalitarian':\n",
    "        SMTI.objective = xsum((m_to_w_rank[j][i] + w_to_m_rank[i][j])*x[i][j] for i in I for j in W_dict[i])\n",
    "\n",
    "    for i in I:\n",
    "        SMTI += xsum(x[i][j] for j in W_dict[i]) <= 1 \n",
    "\n",
    "    for j in J:\n",
    "        SMTI += xsum(x[i][j] for i in M_dict[j]) <= 1    \n",
    "\n",
    "    if Additional_Const == 'stable':\n",
    "        for i in I:\n",
    "            for j in W_dict[i]:\n",
    "                SMTI += 1 - xsum(x[i][q] for q in w_to_m_better_or_indiff_than[i][j]) <= xsum(x[p][j] for p in m_to_w_better_or_indiff_than[j][i])\n",
    "\n",
    "    start = time.perf_counter()\n",
    "    status = SMTI.optimize(max_seconds=600)\n",
    "    end = time.perf_counter()\n",
    "    runningtime = end-start\n",
    "    solution = []\n",
    "    \n",
    "    if Show_infor == True:\n",
    "        print('optimal solution score {} found'.format(SMTI.objective_value))\n",
    "        print('Best Possible:', SMTI.objective_bound)\n",
    "        print('model has {} vars, {} constraints and {} nzs'.format(SMTI.num_cols, SMTI.num_rows, SMTI.num_nz))\n",
    "    \n",
    "    for i in I:\n",
    "        for j in J:\n",
    "            if x[i][j].x > 0.99:\n",
    "                solution.append([i,j])\n",
    "    \n",
    "    print('runningtime',runningtime)\n",
    "    \n",
    "    return solution, SMTI.objective_value # 匹配结果，模型最优值"
   ]
  },
  {
   "cell_type": "code",
   "execution_count": 28,
   "metadata": {},
   "outputs": [
    {
     "name": "stderr",
     "output_type": "stream",
     "text": [
      "Exception ignored in: <function SolverGurobi.__del__ at 0x11549c0d0>\n",
      "Traceback (most recent call last):\n",
      "  File \"/Users/zhuanren/anaconda3/lib/python3.10/site-packages/mip/gurobi.py\", line 431, in __del__\n",
      "    if self._ownsModel:\n",
      "AttributeError: 'SolverGurobi' object has no attribute '_ownsModel'\n"
     ]
    },
    {
     "ename": "FileNotFoundError",
     "evalue": "Gurobi not found. Plase check if the\n            Gurobi dynamic loadable library is reachable or define\n            the environment variable GUROBI_HOME indicating the gurobi\n            installation path.\n            ",
     "output_type": "error",
     "traceback": [
      "\u001b[0;31m---------------------------------------------------------------------------\u001b[0m",
      "\u001b[0;31mFileNotFoundError\u001b[0m                         Traceback (most recent call last)",
      "Cell \u001b[0;32mIn[28], line 1\u001b[0m\n\u001b[0;32m----> 1\u001b[0m \u001b[43mMIP_Solver\u001b[49m\u001b[43m(\u001b[49m\u001b[43mOptimize_Direction\u001b[49m\u001b[43m \u001b[49m\u001b[38;5;241;43m=\u001b[39;49m\u001b[43m \u001b[49m\u001b[38;5;124;43m'\u001b[39;49m\u001b[38;5;124;43mMAXIMIZE\u001b[39;49m\u001b[38;5;124;43m'\u001b[39;49m\u001b[43m,\u001b[49m\u001b[43m \u001b[49m\u001b[43mAdditional_Const\u001b[49m\u001b[43m \u001b[49m\u001b[38;5;241;43m=\u001b[39;49m\u001b[43m \u001b[49m\u001b[38;5;124;43m'\u001b[39;49m\u001b[38;5;124;43munstable\u001b[39;49m\u001b[38;5;124;43m'\u001b[39;49m\u001b[43m,\u001b[49m\u001b[43mShow_infor\u001b[49m\u001b[38;5;241;43m=\u001b[39;49m\u001b[38;5;28;43;01mTrue\u001b[39;49;00m\u001b[43m,\u001b[49m\u001b[43m \u001b[49m\u001b[43mOF\u001b[49m\u001b[43m \u001b[49m\u001b[38;5;241;43m=\u001b[39;49m\u001b[43m \u001b[49m\u001b[38;5;124;43m'\u001b[39;49m\u001b[38;5;124;43mMaximize Weight\u001b[39;49m\u001b[38;5;124;43m'\u001b[39;49m\u001b[43m)\u001b[49m[\u001b[38;5;241m0\u001b[39m]\n",
      "Cell \u001b[0;32mIn[27], line 14\u001b[0m, in \u001b[0;36mMIP_Solver\u001b[0;34m(Optimize_Direction, Additional_Const, Show_infor, OF)\u001b[0m\n\u001b[1;32m      5\u001b[0m \u001b[38;5;28;01mdef\u001b[39;00m \u001b[38;5;21mMIP_Solver\u001b[39m(Optimize_Direction \u001b[38;5;241m=\u001b[39m \u001b[38;5;124m'\u001b[39m\u001b[38;5;124mMAXIMIZE\u001b[39m\u001b[38;5;124m'\u001b[39m, Additional_Const \u001b[38;5;241m=\u001b[39m \u001b[38;5;124m'\u001b[39m\u001b[38;5;124mstable\u001b[39m\u001b[38;5;124m'\u001b[39m, Show_infor \u001b[38;5;241m=\u001b[39m \u001b[38;5;28;01mFalse\u001b[39;00m, OF \u001b[38;5;241m=\u001b[39m \u001b[38;5;124m'\u001b[39m\u001b[38;5;124mMaximize Weight\u001b[39m\u001b[38;5;124m'\u001b[39m):\n\u001b[1;32m      6\u001b[0m     \u001b[38;5;66;03m# 最大化权重模型（无稳定性）：Optimize_Direction = 'MAXIMIZE', Additional_Const = 'unstable', OF = 'Maximize Weight' \u001b[39;00m\n\u001b[1;32m      7\u001b[0m     \u001b[38;5;66;03m# 稳定性模型：\u001b[39;00m\n\u001b[1;32m      8\u001b[0m     \u001b[38;5;66;03m# 1.最大化权重：Optimize_Direction = 'MAXIMIZE', Additional_Const = 'stable', OF = 'Maximize Weight' \u001b[39;00m\n\u001b[1;32m      9\u001b[0m     \u001b[38;5;66;03m# 2.最小化总rank：Optimize_Direction = 'MINIMIZE', Additional_Const = 'stable', OF = 'Egalitarian'  \u001b[39;00m\n\u001b[1;32m     12\u001b[0m     \u001b[38;5;28;01mif\u001b[39;00m Optimize_Direction \u001b[38;5;241m==\u001b[39m \u001b[38;5;124m'\u001b[39m\u001b[38;5;124mMAXIMIZE\u001b[39m\u001b[38;5;124m'\u001b[39m:\n\u001b[0;32m---> 14\u001b[0m         SMTI \u001b[38;5;241m=\u001b[39m \u001b[43mModel\u001b[49m\u001b[43m(\u001b[49m\u001b[43msense\u001b[49m\u001b[38;5;241;43m=\u001b[39;49m\u001b[43mMAXIMIZE\u001b[49m\u001b[43m,\u001b[49m\u001b[43m \u001b[49m\u001b[43msolver_name\u001b[49m\u001b[38;5;241;43m=\u001b[39;49m\u001b[43mGRB\u001b[49m\u001b[43m)\u001b[49m\n\u001b[1;32m     16\u001b[0m     \u001b[38;5;28;01melif\u001b[39;00m Optimize_Direction \u001b[38;5;241m==\u001b[39m \u001b[38;5;124m'\u001b[39m\u001b[38;5;124mMINIMIZE\u001b[39m\u001b[38;5;124m'\u001b[39m:\n\u001b[1;32m     18\u001b[0m         SMTI \u001b[38;5;241m=\u001b[39m Model(sense\u001b[38;5;241m=\u001b[39mMINIMIZE, solver_name\u001b[38;5;241m=\u001b[39mGRB)\n",
      "File \u001b[0;32m~/anaconda3/lib/python3.10/site-packages/mip/model.py:85\u001b[0m, in \u001b[0;36mModel.__init__\u001b[0;34m(self, name, sense, solver_name, solver)\u001b[0m\n\u001b[1;32m     82\u001b[0m \u001b[38;5;28;01mif\u001b[39;00m \u001b[38;5;28mself\u001b[39m\u001b[38;5;241m.\u001b[39msolver_name\u001b[38;5;241m.\u001b[39mupper() \u001b[38;5;129;01min\u001b[39;00m [\u001b[38;5;124m\"\u001b[39m\u001b[38;5;124mGUROBI\u001b[39m\u001b[38;5;124m\"\u001b[39m, \u001b[38;5;124m\"\u001b[39m\u001b[38;5;124mGRB\u001b[39m\u001b[38;5;124m\"\u001b[39m]:\n\u001b[1;32m     83\u001b[0m     \u001b[38;5;28;01mimport\u001b[39;00m \u001b[38;5;21;01mmip\u001b[39;00m\u001b[38;5;21;01m.\u001b[39;00m\u001b[38;5;21;01mgurobi\u001b[39;00m\n\u001b[0;32m---> 85\u001b[0m     \u001b[38;5;28mself\u001b[39m\u001b[38;5;241m.\u001b[39msolver \u001b[38;5;241m=\u001b[39m \u001b[43mmip\u001b[49m\u001b[38;5;241;43m.\u001b[39;49m\u001b[43mgurobi\u001b[49m\u001b[38;5;241;43m.\u001b[39;49m\u001b[43mSolverGurobi\u001b[49m\u001b[43m(\u001b[49m\u001b[38;5;28;43mself\u001b[39;49m\u001b[43m,\u001b[49m\u001b[43m \u001b[49m\u001b[43mname\u001b[49m\u001b[43m,\u001b[49m\u001b[43m \u001b[49m\u001b[43msense\u001b[49m\u001b[43m)\u001b[49m\n\u001b[1;32m     86\u001b[0m \u001b[38;5;28;01melif\u001b[39;00m \u001b[38;5;28mself\u001b[39m\u001b[38;5;241m.\u001b[39msolver_name\u001b[38;5;241m.\u001b[39mupper() \u001b[38;5;241m==\u001b[39m \u001b[38;5;124m\"\u001b[39m\u001b[38;5;124mCBC\u001b[39m\u001b[38;5;124m\"\u001b[39m:\n\u001b[1;32m     87\u001b[0m     \u001b[38;5;28;01mimport\u001b[39;00m \u001b[38;5;21;01mmip\u001b[39;00m\u001b[38;5;21;01m.\u001b[39;00m\u001b[38;5;21;01mcbc\u001b[39;00m\n",
      "File \u001b[0;32m~/anaconda3/lib/python3.10/site-packages/mip/gurobi.py:343\u001b[0m, in \u001b[0;36mSolverGurobi.__init__\u001b[0;34m(self, model, name, sense, modelp)\u001b[0m\n\u001b[1;32m    340\u001b[0m \u001b[38;5;124;03m\"\"\"modelp should be informed if a model should not be created,\u001b[39;00m\n\u001b[1;32m    341\u001b[0m \u001b[38;5;124;03mbut only allow access to an existing one\"\"\"\u001b[39;00m\n\u001b[1;32m    342\u001b[0m \u001b[38;5;28;01mif\u001b[39;00m \u001b[38;5;129;01mnot\u001b[39;00m found:\n\u001b[0;32m--> 343\u001b[0m     \u001b[38;5;28;01mraise\u001b[39;00m \u001b[38;5;167;01mFileNotFoundError\u001b[39;00m(\n\u001b[1;32m    344\u001b[0m         \u001b[38;5;124;03m\"\"\"Gurobi not found. Plase check if the\u001b[39;00m\n\u001b[1;32m    345\u001b[0m \u001b[38;5;124;03m    Gurobi dynamic loadable library is reachable or define\u001b[39;00m\n\u001b[1;32m    346\u001b[0m \u001b[38;5;124;03m    the environment variable GUROBI_HOME indicating the gurobi\u001b[39;00m\n\u001b[1;32m    347\u001b[0m \u001b[38;5;124;03m    installation path.\u001b[39;00m\n\u001b[1;32m    348\u001b[0m \u001b[38;5;124;03m    \"\"\"\u001b[39;00m\n\u001b[1;32m    349\u001b[0m     )\n\u001b[1;32m    351\u001b[0m \u001b[38;5;28msuper\u001b[39m()\u001b[38;5;241m.\u001b[39m\u001b[38;5;21m__init__\u001b[39m(model, name, sense)\n\u001b[1;32m    353\u001b[0m \u001b[38;5;66;03m# setting class members to default values\u001b[39;00m\n",
      "\u001b[0;31mFileNotFoundError\u001b[0m: Gurobi not found. Plase check if the\n            Gurobi dynamic loadable library is reachable or define\n            the environment variable GUROBI_HOME indicating the gurobi\n            installation path.\n            "
     ]
    }
   ],
   "source": [
    "MIP_Solver(Optimize_Direction = 'MAXIMIZE', Additional_Const = 'unstable',Show_infor=True, OF = 'Maximize Weight')[0] # 最大化权重"
   ]
  },
  {
   "cell_type": "markdown",
   "metadata": {},
   "source": [
    "# Minimum Regret"
   ]
  },
  {
   "cell_type": "code",
   "execution_count": 29,
   "metadata": {},
   "outputs": [],
   "source": [
    "def MR(Show_infor = False): \n",
    "    # 优化方向：（附带稳定性）最小化最大rank\n",
    "    \n",
    "    SMTI = Model(sense=MINIMIZE, solver_name=GRB)\n",
    "        \n",
    "    num_female = 68\n",
    "    num_male = 68\n",
    "\n",
    "    I = set(range(num_female))\n",
    "    J = set(range(num_male))\n",
    "\n",
    "    x = [[SMTI.add_var(var_type=BINARY) for j in J] for i in I] # Decision Variable\n",
    "    z = SMTI.add_var()\n",
    "\n",
    "    SMTI.objective = z # Objective Function\n",
    "\n",
    "\n",
    "    for i in I:\n",
    "        SMTI += xsum(x[i][j] for j in W_dict[i]) <= 1 \n",
    "\n",
    "    for j in J:\n",
    "        SMTI += xsum(x[i][j] for i in M_dict[j]) <= 1    \n",
    "\n",
    "\n",
    "    for i in I:\n",
    "        for j in W_dict[i]:\n",
    "            SMTI += 1 - xsum(x[i][q] for q in w_to_m_better_or_indiff_than[i][j]) <= xsum(x[p][j] for p in m_to_w_better_or_indiff_than[j][i])\n",
    "\n",
    "    for i in I:\n",
    "        for j in W_dict[i]:\n",
    "            SMTI += m_to_w_rank[j][i]*x[i][j] <= z\n",
    "            SMTI += w_to_m_rank[i][j]*x[i][j] <= z\n",
    "    \n",
    "    start = time.perf_counter()\n",
    "    status = SMTI.optimize(max_seconds=600)\n",
    "    end = time.perf_counter()\n",
    "    runningtime = end-start\n",
    "\n",
    "    if Show_infor == True:\n",
    "        print('optimal solution score {} found'.format(SMTI.objective_value))\n",
    "        print('Best Possible:', SMTI.objective_bound)\n",
    "        print('model has {} vars, {} constraints and {} nzs'.format(SMTI.num_cols, SMTI.num_rows, SMTI.num_nz))\n",
    "\n",
    "    solution = []\n",
    "    \n",
    "    \n",
    "    for i in I:\n",
    "        for j in J:\n",
    "            if x[i][j].x > 0.99:\n",
    "                solution.append([i,j])\n",
    "    print('runningtime',runningtime)                \n",
    "    return solution, SMTI.objective_value # 匹配结果，模型最优值"
   ]
  },
  {
   "cell_type": "code",
   "execution_count": 30,
   "metadata": {},
   "outputs": [
    {
     "ename": "FileNotFoundError",
     "evalue": "Gurobi not found. Plase check if the\n            Gurobi dynamic loadable library is reachable or define\n            the environment variable GUROBI_HOME indicating the gurobi\n            installation path.\n            ",
     "output_type": "error",
     "traceback": [
      "\u001b[0;31m---------------------------------------------------------------------------\u001b[0m",
      "\u001b[0;31mFileNotFoundError\u001b[0m                         Traceback (most recent call last)",
      "Cell \u001b[0;32mIn[30], line 1\u001b[0m\n\u001b[0;32m----> 1\u001b[0m \u001b[43mMR\u001b[49m\u001b[43m(\u001b[49m\u001b[43mShow_infor\u001b[49m\u001b[43m \u001b[49m\u001b[38;5;241;43m=\u001b[39;49m\u001b[43m \u001b[49m\u001b[38;5;28;43;01mFalse\u001b[39;49;00m\u001b[43m)\u001b[49m[\u001b[38;5;241m0\u001b[39m]\n",
      "Cell \u001b[0;32mIn[29], line 4\u001b[0m, in \u001b[0;36mMR\u001b[0;34m(Show_infor)\u001b[0m\n\u001b[1;32m      1\u001b[0m \u001b[38;5;28;01mdef\u001b[39;00m \u001b[38;5;21mMR\u001b[39m(Show_infor \u001b[38;5;241m=\u001b[39m \u001b[38;5;28;01mFalse\u001b[39;00m): \n\u001b[1;32m      2\u001b[0m     \u001b[38;5;66;03m# 优化方向：（附带稳定性）最小化最大rank\u001b[39;00m\n\u001b[0;32m----> 4\u001b[0m     SMTI \u001b[38;5;241m=\u001b[39m \u001b[43mModel\u001b[49m\u001b[43m(\u001b[49m\u001b[43msense\u001b[49m\u001b[38;5;241;43m=\u001b[39;49m\u001b[43mMINIMIZE\u001b[49m\u001b[43m,\u001b[49m\u001b[43m \u001b[49m\u001b[43msolver_name\u001b[49m\u001b[38;5;241;43m=\u001b[39;49m\u001b[43mGRB\u001b[49m\u001b[43m)\u001b[49m\n\u001b[1;32m      6\u001b[0m     num_female \u001b[38;5;241m=\u001b[39m \u001b[38;5;241m68\u001b[39m\n\u001b[1;32m      7\u001b[0m     num_male \u001b[38;5;241m=\u001b[39m \u001b[38;5;241m68\u001b[39m\n",
      "File \u001b[0;32m~/anaconda3/lib/python3.10/site-packages/mip/model.py:85\u001b[0m, in \u001b[0;36mModel.__init__\u001b[0;34m(self, name, sense, solver_name, solver)\u001b[0m\n\u001b[1;32m     82\u001b[0m \u001b[38;5;28;01mif\u001b[39;00m \u001b[38;5;28mself\u001b[39m\u001b[38;5;241m.\u001b[39msolver_name\u001b[38;5;241m.\u001b[39mupper() \u001b[38;5;129;01min\u001b[39;00m [\u001b[38;5;124m\"\u001b[39m\u001b[38;5;124mGUROBI\u001b[39m\u001b[38;5;124m\"\u001b[39m, \u001b[38;5;124m\"\u001b[39m\u001b[38;5;124mGRB\u001b[39m\u001b[38;5;124m\"\u001b[39m]:\n\u001b[1;32m     83\u001b[0m     \u001b[38;5;28;01mimport\u001b[39;00m \u001b[38;5;21;01mmip\u001b[39;00m\u001b[38;5;21;01m.\u001b[39;00m\u001b[38;5;21;01mgurobi\u001b[39;00m\n\u001b[0;32m---> 85\u001b[0m     \u001b[38;5;28mself\u001b[39m\u001b[38;5;241m.\u001b[39msolver \u001b[38;5;241m=\u001b[39m \u001b[43mmip\u001b[49m\u001b[38;5;241;43m.\u001b[39;49m\u001b[43mgurobi\u001b[49m\u001b[38;5;241;43m.\u001b[39;49m\u001b[43mSolverGurobi\u001b[49m\u001b[43m(\u001b[49m\u001b[38;5;28;43mself\u001b[39;49m\u001b[43m,\u001b[49m\u001b[43m \u001b[49m\u001b[43mname\u001b[49m\u001b[43m,\u001b[49m\u001b[43m \u001b[49m\u001b[43msense\u001b[49m\u001b[43m)\u001b[49m\n\u001b[1;32m     86\u001b[0m \u001b[38;5;28;01melif\u001b[39;00m \u001b[38;5;28mself\u001b[39m\u001b[38;5;241m.\u001b[39msolver_name\u001b[38;5;241m.\u001b[39mupper() \u001b[38;5;241m==\u001b[39m \u001b[38;5;124m\"\u001b[39m\u001b[38;5;124mCBC\u001b[39m\u001b[38;5;124m\"\u001b[39m:\n\u001b[1;32m     87\u001b[0m     \u001b[38;5;28;01mimport\u001b[39;00m \u001b[38;5;21;01mmip\u001b[39;00m\u001b[38;5;21;01m.\u001b[39;00m\u001b[38;5;21;01mcbc\u001b[39;00m\n",
      "File \u001b[0;32m~/anaconda3/lib/python3.10/site-packages/mip/gurobi.py:343\u001b[0m, in \u001b[0;36mSolverGurobi.__init__\u001b[0;34m(self, model, name, sense, modelp)\u001b[0m\n\u001b[1;32m    340\u001b[0m \u001b[38;5;124;03m\"\"\"modelp should be informed if a model should not be created,\u001b[39;00m\n\u001b[1;32m    341\u001b[0m \u001b[38;5;124;03mbut only allow access to an existing one\"\"\"\u001b[39;00m\n\u001b[1;32m    342\u001b[0m \u001b[38;5;28;01mif\u001b[39;00m \u001b[38;5;129;01mnot\u001b[39;00m found:\n\u001b[0;32m--> 343\u001b[0m     \u001b[38;5;28;01mraise\u001b[39;00m \u001b[38;5;167;01mFileNotFoundError\u001b[39;00m(\n\u001b[1;32m    344\u001b[0m         \u001b[38;5;124;03m\"\"\"Gurobi not found. Plase check if the\u001b[39;00m\n\u001b[1;32m    345\u001b[0m \u001b[38;5;124;03m    Gurobi dynamic loadable library is reachable or define\u001b[39;00m\n\u001b[1;32m    346\u001b[0m \u001b[38;5;124;03m    the environment variable GUROBI_HOME indicating the gurobi\u001b[39;00m\n\u001b[1;32m    347\u001b[0m \u001b[38;5;124;03m    installation path.\u001b[39;00m\n\u001b[1;32m    348\u001b[0m \u001b[38;5;124;03m    \"\"\"\u001b[39;00m\n\u001b[1;32m    349\u001b[0m     )\n\u001b[1;32m    351\u001b[0m \u001b[38;5;28msuper\u001b[39m()\u001b[38;5;241m.\u001b[39m\u001b[38;5;21m__init__\u001b[39m(model, name, sense)\n\u001b[1;32m    353\u001b[0m \u001b[38;5;66;03m# setting class members to default values\u001b[39;00m\n",
      "\u001b[0;31mFileNotFoundError\u001b[0m: Gurobi not found. Plase check if the\n            Gurobi dynamic loadable library is reachable or define\n            the environment variable GUROBI_HOME indicating the gurobi\n            installation path.\n            "
     ]
    }
   ],
   "source": [
    "MR(Show_infor = False)[0]"
   ]
  },
  {
   "cell_type": "markdown",
   "metadata": {},
   "source": [
    "# SESM"
   ]
  },
  {
   "cell_type": "code",
   "execution_count": 31,
   "metadata": {},
   "outputs": [],
   "source": [
    "def SESM(Show_infor = False):\n",
    "    # 优化方向：（附带稳定性）最小化男女公平差异\n",
    "    \n",
    "    SMTI = Model(sense=MINIMIZE, solver_name=GRB)\n",
    "        \n",
    "    num_female = 68\n",
    "    num_male = 68\n",
    "\n",
    "    I = set(range(num_female))\n",
    "    J = set(range(num_male))\n",
    "\n",
    "    x = [[SMTI.add_var(var_type=BINARY) for j in J] for i in I] # Decision Variable\n",
    "    z = SMTI.add_var()\n",
    "\n",
    "    SMTI.objective = z # Objective Function\n",
    "\n",
    "\n",
    "    for i in I:\n",
    "        SMTI += xsum(x[i][j] for j in W_dict[i]) <= 1 \n",
    "\n",
    "    for j in J:\n",
    "        SMTI += xsum(x[i][j] for i in M_dict[j]) <= 1    \n",
    "\n",
    "\n",
    "    for i in I:\n",
    "        for j in W_dict[i]:\n",
    "            SMTI += 1 - xsum(x[i][q] for q in w_to_m_better_or_indiff_than[i][j]) <= xsum(x[p][j] for p in m_to_w_better_or_indiff_than[j][i])\n",
    "\n",
    "    SMTI += xsum((m_to_w_rank[j][i] - w_to_m_rank[i][j])*x[i][j] for i in I for j in W_dict[i]) <= z\n",
    "    \n",
    "    SMTI += xsum((w_to_m_rank[i][j] - m_to_w_rank[j][i])*x[i][j] for i in I for j in W_dict[i]) <= z\n",
    "    \n",
    "    start = time.perf_counter()\n",
    "    status = SMTI.optimize(max_seconds=600)\n",
    "    end = time.perf_counter()\n",
    "    runningtime = end-start\n",
    "\n",
    "    if Show_infor == True:\n",
    "        print('optimal solution score {} found'.format(SMTI.objective_value))\n",
    "        print('Best Possible:', SMTI.objective_bound)\n",
    "        print('model has {} vars, {} constraints and {} nzs'.format(SMTI.num_cols, SMTI.num_rows, SMTI.num_nz))\n",
    "\n",
    "    \n",
    "    solution = []\n",
    "    \n",
    "    \n",
    "    for i in I:\n",
    "        for j in J:\n",
    "            if x[i][j].x > 0.99:\n",
    "                solution.append([i,j])\n",
    "                \n",
    "    print('runningtime',runningtime)                \n",
    "    return solution, SMTI.objective_value # 匹配结果，模型最优值"
   ]
  },
  {
   "cell_type": "code",
   "execution_count": 32,
   "metadata": {},
   "outputs": [
    {
     "ename": "FileNotFoundError",
     "evalue": "Gurobi not found. Plase check if the\n            Gurobi dynamic loadable library is reachable or define\n            the environment variable GUROBI_HOME indicating the gurobi\n            installation path.\n            ",
     "output_type": "error",
     "traceback": [
      "\u001b[0;31m---------------------------------------------------------------------------\u001b[0m",
      "\u001b[0;31mFileNotFoundError\u001b[0m                         Traceback (most recent call last)",
      "Cell \u001b[0;32mIn[32], line 1\u001b[0m\n\u001b[0;32m----> 1\u001b[0m \u001b[43mSESM\u001b[49m\u001b[43m(\u001b[49m\u001b[43mShow_infor\u001b[49m\u001b[43m \u001b[49m\u001b[38;5;241;43m=\u001b[39;49m\u001b[43m \u001b[49m\u001b[38;5;28;43;01mTrue\u001b[39;49;00m\u001b[43m)\u001b[49m[\u001b[38;5;241m0\u001b[39m]\n",
      "Cell \u001b[0;32mIn[31], line 4\u001b[0m, in \u001b[0;36mSESM\u001b[0;34m(Show_infor)\u001b[0m\n\u001b[1;32m      1\u001b[0m \u001b[38;5;28;01mdef\u001b[39;00m \u001b[38;5;21mSESM\u001b[39m(Show_infor \u001b[38;5;241m=\u001b[39m \u001b[38;5;28;01mFalse\u001b[39;00m):\n\u001b[1;32m      2\u001b[0m     \u001b[38;5;66;03m# 优化方向：（附带稳定性）最小化男女公平差异\u001b[39;00m\n\u001b[0;32m----> 4\u001b[0m     SMTI \u001b[38;5;241m=\u001b[39m \u001b[43mModel\u001b[49m\u001b[43m(\u001b[49m\u001b[43msense\u001b[49m\u001b[38;5;241;43m=\u001b[39;49m\u001b[43mMINIMIZE\u001b[49m\u001b[43m,\u001b[49m\u001b[43m \u001b[49m\u001b[43msolver_name\u001b[49m\u001b[38;5;241;43m=\u001b[39;49m\u001b[43mGRB\u001b[49m\u001b[43m)\u001b[49m\n\u001b[1;32m      6\u001b[0m     num_female \u001b[38;5;241m=\u001b[39m \u001b[38;5;241m68\u001b[39m\n\u001b[1;32m      7\u001b[0m     num_male \u001b[38;5;241m=\u001b[39m \u001b[38;5;241m68\u001b[39m\n",
      "File \u001b[0;32m~/anaconda3/lib/python3.10/site-packages/mip/model.py:85\u001b[0m, in \u001b[0;36mModel.__init__\u001b[0;34m(self, name, sense, solver_name, solver)\u001b[0m\n\u001b[1;32m     82\u001b[0m \u001b[38;5;28;01mif\u001b[39;00m \u001b[38;5;28mself\u001b[39m\u001b[38;5;241m.\u001b[39msolver_name\u001b[38;5;241m.\u001b[39mupper() \u001b[38;5;129;01min\u001b[39;00m [\u001b[38;5;124m\"\u001b[39m\u001b[38;5;124mGUROBI\u001b[39m\u001b[38;5;124m\"\u001b[39m, \u001b[38;5;124m\"\u001b[39m\u001b[38;5;124mGRB\u001b[39m\u001b[38;5;124m\"\u001b[39m]:\n\u001b[1;32m     83\u001b[0m     \u001b[38;5;28;01mimport\u001b[39;00m \u001b[38;5;21;01mmip\u001b[39;00m\u001b[38;5;21;01m.\u001b[39;00m\u001b[38;5;21;01mgurobi\u001b[39;00m\n\u001b[0;32m---> 85\u001b[0m     \u001b[38;5;28mself\u001b[39m\u001b[38;5;241m.\u001b[39msolver \u001b[38;5;241m=\u001b[39m \u001b[43mmip\u001b[49m\u001b[38;5;241;43m.\u001b[39;49m\u001b[43mgurobi\u001b[49m\u001b[38;5;241;43m.\u001b[39;49m\u001b[43mSolverGurobi\u001b[49m\u001b[43m(\u001b[49m\u001b[38;5;28;43mself\u001b[39;49m\u001b[43m,\u001b[49m\u001b[43m \u001b[49m\u001b[43mname\u001b[49m\u001b[43m,\u001b[49m\u001b[43m \u001b[49m\u001b[43msense\u001b[49m\u001b[43m)\u001b[49m\n\u001b[1;32m     86\u001b[0m \u001b[38;5;28;01melif\u001b[39;00m \u001b[38;5;28mself\u001b[39m\u001b[38;5;241m.\u001b[39msolver_name\u001b[38;5;241m.\u001b[39mupper() \u001b[38;5;241m==\u001b[39m \u001b[38;5;124m\"\u001b[39m\u001b[38;5;124mCBC\u001b[39m\u001b[38;5;124m\"\u001b[39m:\n\u001b[1;32m     87\u001b[0m     \u001b[38;5;28;01mimport\u001b[39;00m \u001b[38;5;21;01mmip\u001b[39;00m\u001b[38;5;21;01m.\u001b[39;00m\u001b[38;5;21;01mcbc\u001b[39;00m\n",
      "File \u001b[0;32m~/anaconda3/lib/python3.10/site-packages/mip/gurobi.py:343\u001b[0m, in \u001b[0;36mSolverGurobi.__init__\u001b[0;34m(self, model, name, sense, modelp)\u001b[0m\n\u001b[1;32m    340\u001b[0m \u001b[38;5;124;03m\"\"\"modelp should be informed if a model should not be created,\u001b[39;00m\n\u001b[1;32m    341\u001b[0m \u001b[38;5;124;03mbut only allow access to an existing one\"\"\"\u001b[39;00m\n\u001b[1;32m    342\u001b[0m \u001b[38;5;28;01mif\u001b[39;00m \u001b[38;5;129;01mnot\u001b[39;00m found:\n\u001b[0;32m--> 343\u001b[0m     \u001b[38;5;28;01mraise\u001b[39;00m \u001b[38;5;167;01mFileNotFoundError\u001b[39;00m(\n\u001b[1;32m    344\u001b[0m         \u001b[38;5;124;03m\"\"\"Gurobi not found. Plase check if the\u001b[39;00m\n\u001b[1;32m    345\u001b[0m \u001b[38;5;124;03m    Gurobi dynamic loadable library is reachable or define\u001b[39;00m\n\u001b[1;32m    346\u001b[0m \u001b[38;5;124;03m    the environment variable GUROBI_HOME indicating the gurobi\u001b[39;00m\n\u001b[1;32m    347\u001b[0m \u001b[38;5;124;03m    installation path.\u001b[39;00m\n\u001b[1;32m    348\u001b[0m \u001b[38;5;124;03m    \"\"\"\u001b[39;00m\n\u001b[1;32m    349\u001b[0m     )\n\u001b[1;32m    351\u001b[0m \u001b[38;5;28msuper\u001b[39m()\u001b[38;5;241m.\u001b[39m\u001b[38;5;21m__init__\u001b[39m(model, name, sense)\n\u001b[1;32m    353\u001b[0m \u001b[38;5;66;03m# setting class members to default values\u001b[39;00m\n",
      "\u001b[0;31mFileNotFoundError\u001b[0m: Gurobi not found. Plase check if the\n            Gurobi dynamic loadable library is reachable or define\n            the environment variable GUROBI_HOME indicating the gurobi\n            installation path.\n            "
     ]
    }
   ],
   "source": [
    "SESM(Show_infor = True)[0]"
   ]
  },
  {
   "cell_type": "code",
   "execution_count": 33,
   "metadata": {},
   "outputs": [
    {
     "ename": "FileNotFoundError",
     "evalue": "Gurobi not found. Plase check if the\n            Gurobi dynamic loadable library is reachable or define\n            the environment variable GUROBI_HOME indicating the gurobi\n            installation path.\n            ",
     "output_type": "error",
     "traceback": [
      "\u001b[0;31m---------------------------------------------------------------------------\u001b[0m",
      "\u001b[0;31mFileNotFoundError\u001b[0m                         Traceback (most recent call last)",
      "Cell \u001b[0;32mIn[33], line 1\u001b[0m\n\u001b[0;32m----> 1\u001b[0m MAX_WT_solution     \u001b[38;5;241m=\u001b[39m  \u001b[43mMIP_Solver\u001b[49m\u001b[43m(\u001b[49m\u001b[43mOptimize_Direction\u001b[49m\u001b[43m \u001b[49m\u001b[38;5;241;43m=\u001b[39;49m\u001b[43m \u001b[49m\u001b[38;5;124;43m'\u001b[39;49m\u001b[38;5;124;43mMAXIMIZE\u001b[39;49m\u001b[38;5;124;43m'\u001b[39;49m\u001b[43m,\u001b[49m\u001b[43m \u001b[49m\u001b[43mAdditional_Const\u001b[49m\u001b[43m \u001b[49m\u001b[38;5;241;43m=\u001b[39;49m\u001b[43m \u001b[49m\u001b[38;5;124;43m'\u001b[39;49m\u001b[38;5;124;43munstable\u001b[39;49m\u001b[38;5;124;43m'\u001b[39;49m\u001b[43m,\u001b[49m\u001b[43m \u001b[49m\u001b[43mShow_infor\u001b[49m\u001b[38;5;241;43m=\u001b[39;49m\u001b[38;5;28;43;01mTrue\u001b[39;49;00m\u001b[43m,\u001b[49m\u001b[43m \u001b[49m\u001b[43mOF\u001b[49m\u001b[43m \u001b[49m\u001b[38;5;241;43m=\u001b[39;49m\u001b[43m \u001b[49m\u001b[38;5;124;43m'\u001b[39;49m\u001b[38;5;124;43mMaximize Weight\u001b[39;49m\u001b[38;5;124;43m'\u001b[39;49m\u001b[43m \u001b[49m\u001b[43m)\u001b[49m[\u001b[38;5;241m0\u001b[39m]\n\u001b[1;32m      2\u001b[0m MAX_WT_stable_solution \u001b[38;5;241m=\u001b[39m  MIP_Solver(Optimize_Direction \u001b[38;5;241m=\u001b[39m \u001b[38;5;124m'\u001b[39m\u001b[38;5;124mMAXIMIZE\u001b[39m\u001b[38;5;124m'\u001b[39m, Additional_Const \u001b[38;5;241m=\u001b[39m \u001b[38;5;124m'\u001b[39m\u001b[38;5;124mstable\u001b[39m\u001b[38;5;124m'\u001b[39m,Show_infor\u001b[38;5;241m=\u001b[39m\u001b[38;5;28;01mTrue\u001b[39;00m)[\u001b[38;5;241m0\u001b[39m]\n\u001b[1;32m      3\u001b[0m Egalitarian_solution\u001b[38;5;241m=\u001b[39m MIP_Solver(Optimize_Direction \u001b[38;5;241m=\u001b[39m \u001b[38;5;124m'\u001b[39m\u001b[38;5;124mMINIMIZE\u001b[39m\u001b[38;5;124m'\u001b[39m, Additional_Const \u001b[38;5;241m=\u001b[39m \u001b[38;5;124m'\u001b[39m\u001b[38;5;124mstable\u001b[39m\u001b[38;5;124m'\u001b[39m, OF \u001b[38;5;241m=\u001b[39m \u001b[38;5;124m'\u001b[39m\u001b[38;5;124mEgalitarian\u001b[39m\u001b[38;5;124m'\u001b[39m,Show_infor\u001b[38;5;241m=\u001b[39m\u001b[38;5;28;01mTrue\u001b[39;00m)[\u001b[38;5;241m0\u001b[39m]\n",
      "Cell \u001b[0;32mIn[27], line 14\u001b[0m, in \u001b[0;36mMIP_Solver\u001b[0;34m(Optimize_Direction, Additional_Const, Show_infor, OF)\u001b[0m\n\u001b[1;32m      5\u001b[0m \u001b[38;5;28;01mdef\u001b[39;00m \u001b[38;5;21mMIP_Solver\u001b[39m(Optimize_Direction \u001b[38;5;241m=\u001b[39m \u001b[38;5;124m'\u001b[39m\u001b[38;5;124mMAXIMIZE\u001b[39m\u001b[38;5;124m'\u001b[39m, Additional_Const \u001b[38;5;241m=\u001b[39m \u001b[38;5;124m'\u001b[39m\u001b[38;5;124mstable\u001b[39m\u001b[38;5;124m'\u001b[39m, Show_infor \u001b[38;5;241m=\u001b[39m \u001b[38;5;28;01mFalse\u001b[39;00m, OF \u001b[38;5;241m=\u001b[39m \u001b[38;5;124m'\u001b[39m\u001b[38;5;124mMaximize Weight\u001b[39m\u001b[38;5;124m'\u001b[39m):\n\u001b[1;32m      6\u001b[0m     \u001b[38;5;66;03m# 最大化权重模型（无稳定性）：Optimize_Direction = 'MAXIMIZE', Additional_Const = 'unstable', OF = 'Maximize Weight' \u001b[39;00m\n\u001b[1;32m      7\u001b[0m     \u001b[38;5;66;03m# 稳定性模型：\u001b[39;00m\n\u001b[1;32m      8\u001b[0m     \u001b[38;5;66;03m# 1.最大化权重：Optimize_Direction = 'MAXIMIZE', Additional_Const = 'stable', OF = 'Maximize Weight' \u001b[39;00m\n\u001b[1;32m      9\u001b[0m     \u001b[38;5;66;03m# 2.最小化总rank：Optimize_Direction = 'MINIMIZE', Additional_Const = 'stable', OF = 'Egalitarian'  \u001b[39;00m\n\u001b[1;32m     12\u001b[0m     \u001b[38;5;28;01mif\u001b[39;00m Optimize_Direction \u001b[38;5;241m==\u001b[39m \u001b[38;5;124m'\u001b[39m\u001b[38;5;124mMAXIMIZE\u001b[39m\u001b[38;5;124m'\u001b[39m:\n\u001b[0;32m---> 14\u001b[0m         SMTI \u001b[38;5;241m=\u001b[39m \u001b[43mModel\u001b[49m\u001b[43m(\u001b[49m\u001b[43msense\u001b[49m\u001b[38;5;241;43m=\u001b[39;49m\u001b[43mMAXIMIZE\u001b[49m\u001b[43m,\u001b[49m\u001b[43m \u001b[49m\u001b[43msolver_name\u001b[49m\u001b[38;5;241;43m=\u001b[39;49m\u001b[43mGRB\u001b[49m\u001b[43m)\u001b[49m\n\u001b[1;32m     16\u001b[0m     \u001b[38;5;28;01melif\u001b[39;00m Optimize_Direction \u001b[38;5;241m==\u001b[39m \u001b[38;5;124m'\u001b[39m\u001b[38;5;124mMINIMIZE\u001b[39m\u001b[38;5;124m'\u001b[39m:\n\u001b[1;32m     18\u001b[0m         SMTI \u001b[38;5;241m=\u001b[39m Model(sense\u001b[38;5;241m=\u001b[39mMINIMIZE, solver_name\u001b[38;5;241m=\u001b[39mGRB)\n",
      "File \u001b[0;32m~/anaconda3/lib/python3.10/site-packages/mip/model.py:85\u001b[0m, in \u001b[0;36mModel.__init__\u001b[0;34m(self, name, sense, solver_name, solver)\u001b[0m\n\u001b[1;32m     82\u001b[0m \u001b[38;5;28;01mif\u001b[39;00m \u001b[38;5;28mself\u001b[39m\u001b[38;5;241m.\u001b[39msolver_name\u001b[38;5;241m.\u001b[39mupper() \u001b[38;5;129;01min\u001b[39;00m [\u001b[38;5;124m\"\u001b[39m\u001b[38;5;124mGUROBI\u001b[39m\u001b[38;5;124m\"\u001b[39m, \u001b[38;5;124m\"\u001b[39m\u001b[38;5;124mGRB\u001b[39m\u001b[38;5;124m\"\u001b[39m]:\n\u001b[1;32m     83\u001b[0m     \u001b[38;5;28;01mimport\u001b[39;00m \u001b[38;5;21;01mmip\u001b[39;00m\u001b[38;5;21;01m.\u001b[39;00m\u001b[38;5;21;01mgurobi\u001b[39;00m\n\u001b[0;32m---> 85\u001b[0m     \u001b[38;5;28mself\u001b[39m\u001b[38;5;241m.\u001b[39msolver \u001b[38;5;241m=\u001b[39m \u001b[43mmip\u001b[49m\u001b[38;5;241;43m.\u001b[39;49m\u001b[43mgurobi\u001b[49m\u001b[38;5;241;43m.\u001b[39;49m\u001b[43mSolverGurobi\u001b[49m\u001b[43m(\u001b[49m\u001b[38;5;28;43mself\u001b[39;49m\u001b[43m,\u001b[49m\u001b[43m \u001b[49m\u001b[43mname\u001b[49m\u001b[43m,\u001b[49m\u001b[43m \u001b[49m\u001b[43msense\u001b[49m\u001b[43m)\u001b[49m\n\u001b[1;32m     86\u001b[0m \u001b[38;5;28;01melif\u001b[39;00m \u001b[38;5;28mself\u001b[39m\u001b[38;5;241m.\u001b[39msolver_name\u001b[38;5;241m.\u001b[39mupper() \u001b[38;5;241m==\u001b[39m \u001b[38;5;124m\"\u001b[39m\u001b[38;5;124mCBC\u001b[39m\u001b[38;5;124m\"\u001b[39m:\n\u001b[1;32m     87\u001b[0m     \u001b[38;5;28;01mimport\u001b[39;00m \u001b[38;5;21;01mmip\u001b[39;00m\u001b[38;5;21;01m.\u001b[39;00m\u001b[38;5;21;01mcbc\u001b[39;00m\n",
      "File \u001b[0;32m~/anaconda3/lib/python3.10/site-packages/mip/gurobi.py:343\u001b[0m, in \u001b[0;36mSolverGurobi.__init__\u001b[0;34m(self, model, name, sense, modelp)\u001b[0m\n\u001b[1;32m    340\u001b[0m \u001b[38;5;124;03m\"\"\"modelp should be informed if a model should not be created,\u001b[39;00m\n\u001b[1;32m    341\u001b[0m \u001b[38;5;124;03mbut only allow access to an existing one\"\"\"\u001b[39;00m\n\u001b[1;32m    342\u001b[0m \u001b[38;5;28;01mif\u001b[39;00m \u001b[38;5;129;01mnot\u001b[39;00m found:\n\u001b[0;32m--> 343\u001b[0m     \u001b[38;5;28;01mraise\u001b[39;00m \u001b[38;5;167;01mFileNotFoundError\u001b[39;00m(\n\u001b[1;32m    344\u001b[0m         \u001b[38;5;124;03m\"\"\"Gurobi not found. Plase check if the\u001b[39;00m\n\u001b[1;32m    345\u001b[0m \u001b[38;5;124;03m    Gurobi dynamic loadable library is reachable or define\u001b[39;00m\n\u001b[1;32m    346\u001b[0m \u001b[38;5;124;03m    the environment variable GUROBI_HOME indicating the gurobi\u001b[39;00m\n\u001b[1;32m    347\u001b[0m \u001b[38;5;124;03m    installation path.\u001b[39;00m\n\u001b[1;32m    348\u001b[0m \u001b[38;5;124;03m    \"\"\"\u001b[39;00m\n\u001b[1;32m    349\u001b[0m     )\n\u001b[1;32m    351\u001b[0m \u001b[38;5;28msuper\u001b[39m()\u001b[38;5;241m.\u001b[39m\u001b[38;5;21m__init__\u001b[39m(model, name, sense)\n\u001b[1;32m    353\u001b[0m \u001b[38;5;66;03m# setting class members to default values\u001b[39;00m\n",
      "\u001b[0;31mFileNotFoundError\u001b[0m: Gurobi not found. Plase check if the\n            Gurobi dynamic loadable library is reachable or define\n            the environment variable GUROBI_HOME indicating the gurobi\n            installation path.\n            "
     ]
    }
   ],
   "source": [
    "MAX_WT_solution     =  MIP_Solver(Optimize_Direction = 'MAXIMIZE', Additional_Const = 'unstable', Show_infor=True, OF = 'Maximize Weight' )[0]\n",
    "MAX_WT_stable_solution =  MIP_Solver(Optimize_Direction = 'MAXIMIZE', Additional_Const = 'stable',Show_infor=True)[0]\n",
    "Egalitarian_solution= MIP_Solver(Optimize_Direction = 'MINIMIZE', Additional_Const = 'stable', OF = 'Egalitarian',Show_infor=True)[0]\n",
    "MR_solution         = MR(Show_infor=True)[0]\n",
    "SESM_solution       = SESM(Show_infor=True)[0]"
   ]
  },
  {
   "cell_type": "code",
   "execution_count": 34,
   "metadata": {},
   "outputs": [
    {
     "ename": "NameError",
     "evalue": "name 'MAX_WT_solution' is not defined",
     "output_type": "error",
     "traceback": [
      "\u001b[0;31m---------------------------------------------------------------------------\u001b[0m",
      "\u001b[0;31mNameError\u001b[0m                                 Traceback (most recent call last)",
      "Cell \u001b[0;32mIn[34], line 1\u001b[0m\n\u001b[0;32m----> 1\u001b[0m \u001b[43mMAX_WT_solution\u001b[49m\n",
      "\u001b[0;31mNameError\u001b[0m: name 'MAX_WT_solution' is not defined"
     ]
    }
   ],
   "source": [
    "MAX_WT_solution"
   ]
  },
  {
   "cell_type": "code",
   "execution_count": null,
   "metadata": {},
   "outputs": [],
   "source": []
  }
 ],
 "metadata": {
  "kernelspec": {
   "display_name": "Python 3 (ipykernel)",
   "language": "python",
   "name": "python3"
  },
  "language_info": {
   "codemirror_mode": {
    "name": "ipython",
    "version": 3
   },
   "file_extension": ".py",
   "mimetype": "text/x-python",
   "name": "python",
   "nbconvert_exporter": "python",
   "pygments_lexer": "ipython3",
   "version": "3.10.9"
  }
 },
 "nbformat": 4,
 "nbformat_minor": 4
}
