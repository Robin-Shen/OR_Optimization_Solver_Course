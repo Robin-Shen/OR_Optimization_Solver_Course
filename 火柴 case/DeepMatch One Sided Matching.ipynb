{
 "cells": [
  {
   "cell_type": "markdown",
   "metadata": {},
   "source": [
    "# 单向匹配"
   ]
  },
  {
   "cell_type": "markdown",
   "metadata": {},
   "source": [
    "## 单向匹配 录入男性评分，女性评分，拒绝列表"
   ]
  },
  {
   "cell_type": "code",
   "execution_count": 65,
   "metadata": {},
   "outputs": [
    {
     "name": "stderr",
     "output_type": "stream",
     "text": [
      "Exception ignored in: <function SolverGurobi.__del__ at 0x1183c4dc0>\n",
      "Traceback (most recent call last):\n",
      "  File \"/Users/zhuanren/anaconda3/lib/python3.10/site-packages/mip/gurobi.py\", line 431, in __del__\n",
      "    if self._ownsModel:\n",
      "AttributeError: 'SolverGurobi' object has no attribute '_ownsModel'\n"
     ]
    },
    {
     "ename": "FileNotFoundError",
     "evalue": "[Errno 2] No such file or directory: 'Scores_for_Women.txt'",
     "output_type": "error",
     "traceback": [
      "\u001b[0;31m---------------------------------------------------------------------------\u001b[0m",
      "\u001b[0;31mFileNotFoundError\u001b[0m                         Traceback (most recent call last)",
      "Cell \u001b[0;32mIn[65], line 6\u001b[0m\n\u001b[1;32m      3\u001b[0m \u001b[38;5;28;01mimport\u001b[39;00m \u001b[38;5;21;01mtime\u001b[39;00m\n\u001b[1;32m      5\u001b[0m \u001b[38;5;66;03m# 读取女性评分\u001b[39;00m\n\u001b[0;32m----> 6\u001b[0m \u001b[38;5;28;01mwith\u001b[39;00m \u001b[38;5;28;43mopen\u001b[39;49m\u001b[43m(\u001b[49m\u001b[38;5;124;43m\"\u001b[39;49m\u001b[38;5;124;43mScores_for_Women.txt\u001b[39;49m\u001b[38;5;124;43m\"\u001b[39;49m\u001b[43m,\u001b[49m\u001b[43m \u001b[49m\u001b[38;5;124;43m\"\u001b[39;49m\u001b[38;5;124;43mr\u001b[39;49m\u001b[38;5;124;43m\"\u001b[39;49m\u001b[43m)\u001b[49m \u001b[38;5;28;01mas\u001b[39;00m f:\n\u001b[1;32m      7\u001b[0m     w_to_m_data \u001b[38;5;241m=\u001b[39m f\u001b[38;5;241m.\u001b[39mreadlines()[\u001b[38;5;241m1\u001b[39m:]\n\u001b[1;32m      9\u001b[0m \u001b[38;5;66;03m# 转化为矩阵 w_to_m_score_matrix[i][j] 为 女性i对男性j的评分\u001b[39;00m\n",
      "File \u001b[0;32m~/anaconda3/lib/python3.10/site-packages/IPython/core/interactiveshell.py:282\u001b[0m, in \u001b[0;36m_modified_open\u001b[0;34m(file, *args, **kwargs)\u001b[0m\n\u001b[1;32m    275\u001b[0m \u001b[38;5;28;01mif\u001b[39;00m file \u001b[38;5;129;01min\u001b[39;00m {\u001b[38;5;241m0\u001b[39m, \u001b[38;5;241m1\u001b[39m, \u001b[38;5;241m2\u001b[39m}:\n\u001b[1;32m    276\u001b[0m     \u001b[38;5;28;01mraise\u001b[39;00m \u001b[38;5;167;01mValueError\u001b[39;00m(\n\u001b[1;32m    277\u001b[0m         \u001b[38;5;124mf\u001b[39m\u001b[38;5;124m\"\u001b[39m\u001b[38;5;124mIPython won\u001b[39m\u001b[38;5;124m'\u001b[39m\u001b[38;5;124mt let you open fd=\u001b[39m\u001b[38;5;132;01m{\u001b[39;00mfile\u001b[38;5;132;01m}\u001b[39;00m\u001b[38;5;124m by default \u001b[39m\u001b[38;5;124m\"\u001b[39m\n\u001b[1;32m    278\u001b[0m         \u001b[38;5;124m\"\u001b[39m\u001b[38;5;124mas it is likely to crash IPython. If you know what you are doing, \u001b[39m\u001b[38;5;124m\"\u001b[39m\n\u001b[1;32m    279\u001b[0m         \u001b[38;5;124m\"\u001b[39m\u001b[38;5;124myou can use builtins\u001b[39m\u001b[38;5;124m'\u001b[39m\u001b[38;5;124m open.\u001b[39m\u001b[38;5;124m\"\u001b[39m\n\u001b[1;32m    280\u001b[0m     )\n\u001b[0;32m--> 282\u001b[0m \u001b[38;5;28;01mreturn\u001b[39;00m \u001b[43mio_open\u001b[49m\u001b[43m(\u001b[49m\u001b[43mfile\u001b[49m\u001b[43m,\u001b[49m\u001b[43m \u001b[49m\u001b[38;5;241;43m*\u001b[39;49m\u001b[43margs\u001b[49m\u001b[43m,\u001b[49m\u001b[43m \u001b[49m\u001b[38;5;241;43m*\u001b[39;49m\u001b[38;5;241;43m*\u001b[39;49m\u001b[43mkwargs\u001b[49m\u001b[43m)\u001b[49m\n",
      "\u001b[0;31mFileNotFoundError\u001b[0m: [Errno 2] No such file or directory: 'Scores_for_Women.txt'"
     ]
    }
   ],
   "source": [
    "import pandas as pd\n",
    "import numpy as np\n",
    "import time\n",
    "\n",
    "# 读取女性评分\n",
    "with open(\"Scores_for_Women.txt\", \"r\") as f:\n",
    "    w_to_m_data = f.readlines()[1:]\n",
    "\n",
    "# 转化为矩阵 w_to_m_score_matrix[i][j] 为 女性i对男性j的评分\n",
    "w_to_m_Scores = []    \n",
    "for i in range(len(w_to_m_data)):\n",
    "    w_to_m_Scores.append([float(ii) for ii in w_to_m_data[i].strip('\\n').split(' ')[:-1]])\n",
    "    \n",
    "w_to_m_score_matrix = np.array(w_to_m_Scores)\n",
    "\n",
    "# 读取女性评分\n",
    "with open(\"Scores_for_Men.txt\", \"r\") as f:\n",
    "    m_to_w_data = f.readlines()[1:]\n",
    "\n",
    "# 转化为矩阵 m_to_w_score_matrix[i][j] 为 男性i对女性j的评分    \n",
    "m_to_w_Scores = []    \n",
    "for i in range(len(m_to_w_data)):\n",
    "    m_to_w_Scores.append([float(ii) for ii in m_to_w_data[i].strip('\\n').split(' ')[:-1]])\n",
    "    \n",
    "m_to_w_score_matrix = np.array(m_to_w_Scores)\n",
    "\n",
    "\n",
    "# 读取拒绝列表\n",
    "with open(\"Reject_List.txt\", \"r\") as f:\n",
    "    reject_data = f.readlines()[1:]\n",
    "\n",
    "# 转化为列表 \n",
    "reject_list = []    \n",
    "for i in range(len(reject_data)):\n",
    "    reject_list.append([int(ii) for ii in reject_data[i].strip('\\n').split(' ')])\n",
    "    \n",
    "# print('reject_list', reject_list)\n",
    "\n",
    "W_dict = {} # 女性可接受词典\n",
    "M_dict = {} # 男性可接受词典\n",
    "\n",
    "for i in range(68):\n",
    "    W_dict[i] = [i for i in range(68)]\n",
    "    M_dict[i] = [i for i in range(68)]\n",
    "\n",
    "for j in reject_list: # 按拒绝列表移除不接受的用户\n",
    "    W_dict[j[0]].remove(j[1])\n",
    "    M_dict[j[1]].remove(j[0])\n"
   ]
  },
  {
   "cell_type": "markdown",
   "metadata": {},
   "source": [
    "# One Side Matching"
   ]
  },
  {
   "cell_type": "markdown",
   "metadata": {},
   "source": [
    "## 在此规则中，以男性匹配为例，同一名女性用户最多可以被推荐X次，一名男性最多只能收获一名推荐名额，目标1.最大化权重 2.最大化最差用户的权重"
   ]
  },
  {
   "cell_type": "code",
   "execution_count": 66,
   "metadata": {},
   "outputs": [
    {
     "data": {
      "text/plain": [
       "array([[13.65, 14.65, 13.65, ..., 12.65,  7.15, 13.4 ],\n",
       "       [31.25, 32.9 , 32.25, ..., 28.75, 26.25, 24.75],\n",
       "       [21.5 , 47.  , 39.75, ..., 28.75, 37.5 , 45.  ],\n",
       "       ...,\n",
       "       [22.5 , 37.5 , 52.25, ..., 28.75, 33.75, 32.25],\n",
       "       [37.5 , 47.5 , 63.75, ..., 46.25, 46.25, 22.25],\n",
       "       [23.65, 14.65, 13.65, ..., 22.65,  7.15, 10.9 ]])"
      ]
     },
     "execution_count": 66,
     "metadata": {},
     "output_type": "execute_result"
    }
   ],
   "source": [
    "m_to_w_score_matrix "
   ]
  },
  {
   "cell_type": "code",
   "execution_count": 67,
   "metadata": {},
   "outputs": [
    {
     "data": {
      "text/plain": [
       "array([[30.25, 36.25, 24.  , ..., 37.5 , 35.  , 22.75],\n",
       "       [26.25, 32.9 , 45.4 , ..., 33.75, 43.75, 16.25],\n",
       "       [25.25, 37.25, 38.5 , ..., 52.25, 45.  , 14.  ],\n",
       "       ...,\n",
       "       [ 2.65,  4.65,  7.15, ...,  7.15,  7.15,  2.65],\n",
       "       [16.25, 28.75, 33.75, ..., 33.75, 33.75, 26.25],\n",
       "       [20.  , 22.25, 21.25, ..., 19.75, 27.25, 25.  ]])"
      ]
     },
     "execution_count": 67,
     "metadata": {},
     "output_type": "execute_result"
    }
   ],
   "source": [
    "w_to_m_score_matrix"
   ]
  },
  {
   "cell_type": "code",
   "execution_count": 68,
   "metadata": {},
   "outputs": [],
   "source": [
    "from mip import *\n",
    "\n",
    "# 模型一： 最大化匹配总权重\n",
    "def OneSideMatching1(score_matrix, X, sex_side = 'male'): \n",
    "    # X: 每名用户(默认女性)可被推荐的最大次数\n",
    "    # score_matrix： 用户的分数矩阵，为男性推荐则input为 m_to_w_score_matrix，为女性推荐则input为 w_to_m_score_matrix\n",
    "    # sex_side： 为哪种性别的用户推荐， male为男性 female为女性\n",
    "    \n",
    "    OSM1 = Model(sense=MAXIMIZE, solver_name= CPLEX) # 生成模型 调用Gurobi求解器\n",
    "    \n",
    "    # 创建男女全集合，根据数据不同需要变动\n",
    "    num_female = 68\n",
    "    num_male = 68\n",
    "\n",
    "    I = set(range(num_female))\n",
    "    J = set(range(num_male))\n",
    "    \n",
    "    # 添加二元变量\n",
    "\n",
    "    x = [[OSM1.add_var(var_type=BINARY) for j in J] for i in I] # Decision Variable\n",
    "    \n",
    "    # 设定目标方程\n",
    "    \n",
    "    OSM1.objective = xsum(score_matrix[i][j]*x[i][j] for i in I for j in W_dict[i])\n",
    "    \n",
    "    # 根据不同性别添加约束\n",
    "    if sex_side == 'male':\n",
    "        for i in I:\n",
    "            OSM1 += xsum(x[i][j] for j in W_dict[i]) <= X \n",
    "\n",
    "        for j in J:\n",
    "            OSM1 += xsum(x[i][j] for i in M_dict[j]) <= 1 \n",
    "            \n",
    "    if sex_side == 'female':\n",
    "        for i in I:\n",
    "            OSM1 += xsum(x[i][j] for j in W_dict[i]) <= 1 \n",
    "\n",
    "        for j in J:\n",
    "            OSM1 += xsum(x[i][j] for i in M_dict[j]) <= X\n",
    "\n",
    "    # 计算运行时间， 求解        \n",
    "    start = time.perf_counter()\n",
    "    status = OSM1.optimize(max_seconds=600)\n",
    "    end = time.perf_counter()\n",
    "    runningtime = end-start\n",
    "    \n",
    "    # 根据不同性别进行解的收集\n",
    "    solution = []\n",
    "    \n",
    "    if sex_side == 'male':\n",
    "        for i in I:\n",
    "            for j in J:\n",
    "                if x[i][j].x > 0.99:\n",
    "                    solution.append([i,j])\n",
    "    \n",
    "    \n",
    "    if sex_side == 'female':\n",
    "        for j in J:\n",
    "            for i in I:\n",
    "                if x[i][j].x > 0.99:\n",
    "                    solution.append([i,j])\n",
    "    \n",
    "    \n",
    "    return solution, OSM1.objective_value, runningtime # 匹配结果，模型最优值，运行时间"
   ]
  },
  {
   "cell_type": "code",
   "execution_count": 69,
   "metadata": {},
   "outputs": [
    {
     "name": "stderr",
     "output_type": "stream",
     "text": [
      "An error occurred while loading the CBC library:\t cannot load library '/Users/zhuanren/anaconda3/lib/python3.10/site-packages/mip/libraries/cbc-c-darwin-x86-64.dylib': dlopen(/Users/zhuanren/anaconda3/lib/python3.10/site-packages/mip/libraries/cbc-c-darwin-x86-64.dylib, 0x0002): tried: '/Users/zhuanren/anaconda3/lib/python3.10/site-packages/mip/libraries/cbc-c-darwin-x86-64.dylib' (mach-o file, but is an incompatible architecture (have 'x86_64', need 'arm64')), '/System/Volumes/Preboot/Cryptexes/OS/Users/zhuanren/anaconda3/lib/python3.10/site-packages/mip/libraries/cbc-c-darwin-x86-64.dylib' (no such file), '/Users/zhuanren/anaconda3/lib/python3.10/site-packages/mip/libraries/cbc-c-darwin-x86-64.dylib' (mach-o file, but is an incompatible architecture (have 'x86_64', need 'arm64')).  Additionally, ctypes.util.find_library() did not manage to locate a library called '/Users/zhuanren/anaconda3/lib/python3.10/site-packages/mip/libraries/cbc-c-darwin-x86-64.dylib'\n",
      "\n"
     ]
    },
    {
     "ename": "NameError",
     "evalue": "name 'cbclib' is not defined",
     "output_type": "error",
     "traceback": [
      "\u001b[0;31m---------------------------------------------------------------------------\u001b[0m",
      "\u001b[0;31mNameError\u001b[0m                                 Traceback (most recent call last)",
      "Cell \u001b[0;32mIn[69], line 1\u001b[0m\n\u001b[0;32m----> 1\u001b[0m sol \u001b[38;5;241m=\u001b[39m \u001b[43mOneSideMatching1\u001b[49m\u001b[43m(\u001b[49m\u001b[43mw_to_m_score_matrix\u001b[49m\u001b[43m,\u001b[49m\u001b[43m \u001b[49m\u001b[38;5;241;43m4\u001b[39;49m\u001b[43m,\u001b[49m\u001b[43m \u001b[49m\u001b[43msex_side\u001b[49m\u001b[43m \u001b[49m\u001b[38;5;241;43m=\u001b[39;49m\u001b[43m \u001b[49m\u001b[38;5;124;43m'\u001b[39;49m\u001b[38;5;124;43mfemale\u001b[39;49m\u001b[38;5;124;43m'\u001b[39;49m\u001b[43m)\u001b[49m \n\u001b[1;32m      2\u001b[0m sol[\u001b[38;5;241m0\u001b[39m]\n",
      "Cell \u001b[0;32mIn[68], line 9\u001b[0m, in \u001b[0;36mOneSideMatching1\u001b[0;34m(score_matrix, X, sex_side)\u001b[0m\n\u001b[1;32m      4\u001b[0m \u001b[38;5;28;01mdef\u001b[39;00m \u001b[38;5;21mOneSideMatching1\u001b[39m(score_matrix, X, sex_side \u001b[38;5;241m=\u001b[39m \u001b[38;5;124m'\u001b[39m\u001b[38;5;124mmale\u001b[39m\u001b[38;5;124m'\u001b[39m): \n\u001b[1;32m      5\u001b[0m     \u001b[38;5;66;03m# X: 每名用户(默认女性)可被推荐的最大次数\u001b[39;00m\n\u001b[1;32m      6\u001b[0m     \u001b[38;5;66;03m# score_matrix： 用户的分数矩阵，为男性推荐则input为 m_to_w_score_matrix，为女性推荐则input为 w_to_m_score_matrix\u001b[39;00m\n\u001b[1;32m      7\u001b[0m     \u001b[38;5;66;03m# sex_side： 为哪种性别的用户推荐， male为男性 female为女性\u001b[39;00m\n\u001b[0;32m----> 9\u001b[0m     OSM1 \u001b[38;5;241m=\u001b[39m \u001b[43mModel\u001b[49m\u001b[43m(\u001b[49m\u001b[43msense\u001b[49m\u001b[38;5;241;43m=\u001b[39;49m\u001b[43mMAXIMIZE\u001b[49m\u001b[43m,\u001b[49m\u001b[43m \u001b[49m\u001b[43msolver_name\u001b[49m\u001b[38;5;241;43m=\u001b[39;49m\u001b[43m \u001b[49m\u001b[43mCPLEX\u001b[49m\u001b[43m)\u001b[49m \u001b[38;5;66;03m# 生成模型 调用Gurobi求解器\u001b[39;00m\n\u001b[1;32m     11\u001b[0m     \u001b[38;5;66;03m# 创建男女全集合，根据数据不同需要变动\u001b[39;00m\n\u001b[1;32m     12\u001b[0m     num_female \u001b[38;5;241m=\u001b[39m \u001b[38;5;241m68\u001b[39m\n",
      "File \u001b[0;32m~/anaconda3/lib/python3.10/site-packages/mip/model.py:98\u001b[0m, in \u001b[0;36mModel.__init__\u001b[0;34m(self, name, sense, solver_name, solver)\u001b[0m\n\u001b[1;32m     96\u001b[0m     \u001b[38;5;28mself\u001b[39m\u001b[38;5;241m.\u001b[39msolver_name \u001b[38;5;241m=\u001b[39m mip\u001b[38;5;241m.\u001b[39mGUROBI\n\u001b[1;32m     97\u001b[0m \u001b[38;5;28;01melse\u001b[39;00m:\n\u001b[0;32m---> 98\u001b[0m     \u001b[38;5;28;01mimport\u001b[39;00m \u001b[38;5;21;01mmip\u001b[39;00m\u001b[38;5;21;01m.\u001b[39;00m\u001b[38;5;21;01mcbc\u001b[39;00m\n\u001b[1;32m    100\u001b[0m     \u001b[38;5;28mself\u001b[39m\u001b[38;5;241m.\u001b[39msolver \u001b[38;5;241m=\u001b[39m mip\u001b[38;5;241m.\u001b[39mcbc\u001b[38;5;241m.\u001b[39mSolverCbc(\u001b[38;5;28mself\u001b[39m, name, sense)\n\u001b[1;32m    101\u001b[0m     \u001b[38;5;28mself\u001b[39m\u001b[38;5;241m.\u001b[39msolver_name \u001b[38;5;241m=\u001b[39m mip\u001b[38;5;241m.\u001b[39mCBC\n",
      "File \u001b[0;32m~/anaconda3/lib/python3.10/site-packages/mip/cbc.py:603\u001b[0m\n\u001b[1;32m    599\u001b[0m INT_PARAM_CLIQUE_MERGING \u001b[38;5;241m=\u001b[39m \u001b[38;5;241m18\u001b[39m\n\u001b[1;32m    600\u001b[0m INT_PARAM_MAX_NODES_NOT_IMPROV_FS \u001b[38;5;241m=\u001b[39m \u001b[38;5;241m19\u001b[39m\n\u001b[0;32m--> 603\u001b[0m Osi_getNumCols \u001b[38;5;241m=\u001b[39m \u001b[43mcbclib\u001b[49m\u001b[38;5;241m.\u001b[39mOsi_getNumCols\n\u001b[1;32m    604\u001b[0m Osi_getColSolution \u001b[38;5;241m=\u001b[39m cbclib\u001b[38;5;241m.\u001b[39mOsi_getColSolution\n\u001b[1;32m    605\u001b[0m Osi_getIntegerTolerance \u001b[38;5;241m=\u001b[39m cbclib\u001b[38;5;241m.\u001b[39mOsi_getIntegerTolerance\n",
      "\u001b[0;31mNameError\u001b[0m: name 'cbclib' is not defined"
     ]
    }
   ],
   "source": [
    "sol = OneSideMatching1(w_to_m_score_matrix, 4, sex_side = 'female') \n",
    "sol[0]"
   ]
  },
  {
   "cell_type": "code",
   "execution_count": 70,
   "metadata": {},
   "outputs": [],
   "source": [
    "from mip import *\n",
    "\n",
    "# 最大化最小权重\n",
    "def OneSideMatching2(score_matrix, X, sex_side = 'male'):\n",
    "    # X: 每名用户(默认女性)可被推荐的最大次数\n",
    "    # score_matrix： 用户的分数矩阵，为男性推荐则input为 m_to_w_score_matrix，为女性推荐则input为 w_to_m_score_matrix\n",
    "    # sex_side： 为哪种性别的用户推荐， male为男性 female为女性\n",
    "    \n",
    "    \n",
    "    OSM2 = Model(sense=MAXIMIZE, solver_name=GRB) # 生成模型 调用Gurobi求解器\n",
    "    \n",
    "    # 创建男女全集合，根据数据不同需要变动         \n",
    "    num_female = 68\n",
    "    num_male = 68\n",
    "\n",
    "    I = set(range(num_female))\n",
    "    J = set(range(num_male))\n",
    "\n",
    "    # 添加决策变量\n",
    "    x = [[OSM2.add_var(var_type=BINARY) for j in J] for i in I]\n",
    "    z = OSM2.add_var()\n",
    "\n",
    "    # 设定目标方程\n",
    "    OSM2.objective = z\n",
    "\n",
    "    # 根据不同性别添加约束\n",
    "    if sex_side == 'male':\n",
    "        for i in I:\n",
    "            OSM2 += xsum(x[i][j] for j in W_dict[i]) <= X \n",
    "\n",
    "        for j in J:\n",
    "            OSM2 += xsum(x[i][j] for i in M_dict[j]) <= 1 \n",
    "            OSM2 += xsum(score_matrix[i][j]*x[i][j] for i in M_dict[j]) >= z \n",
    "            \n",
    "    if sex_side == 'female':\n",
    "        for i in I:\n",
    "            OSM2 += xsum(x[i][j] for j in W_dict[i]) <= 1 \n",
    "            OSM2 += xsum(score_matrix[i][j]*x[i][j] for j in W_dict[i]) >= z \n",
    "            \n",
    "        for j in J:\n",
    "            OSM2 += xsum(x[i][j] for i in M_dict[j]) <= X\n",
    "\n",
    "    # 计算运行时间， 求解       \n",
    "    start = time.perf_counter()\n",
    "    status = OSM2.optimize(max_seconds=600)\n",
    "    end = time.perf_counter()\n",
    "    runningtime = end-start\n",
    "    \n",
    "    # 根据不同性别进行解的收集\n",
    "    solution = []\n",
    "    \n",
    "    if sex_side == 'male':\n",
    "        for i in I:\n",
    "            for j in J:\n",
    "                if x[i][j].x > 0.99:\n",
    "                    solution.append([i,j])\n",
    "    \n",
    "    \n",
    "    if sex_side == 'female':\n",
    "        for j in J:\n",
    "            for i in I:\n",
    "                if x[i][j].x > 0.99:\n",
    "                    solution.append([i,j])\n",
    "    \n",
    "    return solution, OSM2.objective_value, runningtime # 匹配结果，模型最优值，运行时间"
   ]
  },
  {
   "cell_type": "code",
   "execution_count": 71,
   "metadata": {},
   "outputs": [
    {
     "ename": "FileNotFoundError",
     "evalue": "Gurobi not found. Plase check if the\n            Gurobi dynamic loadable library is reachable or define\n            the environment variable GUROBI_HOME indicating the gurobi\n            installation path.\n            ",
     "output_type": "error",
     "traceback": [
      "\u001b[0;31m---------------------------------------------------------------------------\u001b[0m",
      "\u001b[0;31mFileNotFoundError\u001b[0m                         Traceback (most recent call last)",
      "Cell \u001b[0;32mIn[71], line 1\u001b[0m\n\u001b[0;32m----> 1\u001b[0m sol2 \u001b[38;5;241m=\u001b[39m \u001b[43mOneSideMatching2\u001b[49m\u001b[43m(\u001b[49m\u001b[43mm_to_w_score_matrix\u001b[49m\u001b[43m,\u001b[49m\u001b[43m \u001b[49m\u001b[38;5;241;43m2\u001b[39;49m\u001b[43m,\u001b[49m\u001b[43m \u001b[49m\u001b[43msex_side\u001b[49m\u001b[43m \u001b[49m\u001b[38;5;241;43m=\u001b[39;49m\u001b[43m \u001b[49m\u001b[38;5;124;43m'\u001b[39;49m\u001b[38;5;124;43mmale\u001b[39;49m\u001b[38;5;124;43m'\u001b[39;49m\u001b[43m)\u001b[49m\n\u001b[1;32m      2\u001b[0m sol2[\u001b[38;5;241m0\u001b[39m]\n",
      "Cell \u001b[0;32mIn[70], line 10\u001b[0m, in \u001b[0;36mOneSideMatching2\u001b[0;34m(score_matrix, X, sex_side)\u001b[0m\n\u001b[1;32m      4\u001b[0m \u001b[38;5;28;01mdef\u001b[39;00m \u001b[38;5;21mOneSideMatching2\u001b[39m(score_matrix, X, sex_side \u001b[38;5;241m=\u001b[39m \u001b[38;5;124m'\u001b[39m\u001b[38;5;124mmale\u001b[39m\u001b[38;5;124m'\u001b[39m):\n\u001b[1;32m      5\u001b[0m     \u001b[38;5;66;03m# X: 每名用户(默认女性)可被推荐的最大次数\u001b[39;00m\n\u001b[1;32m      6\u001b[0m     \u001b[38;5;66;03m# score_matrix： 用户的分数矩阵，为男性推荐则input为 m_to_w_score_matrix，为女性推荐则input为 w_to_m_score_matrix\u001b[39;00m\n\u001b[1;32m      7\u001b[0m     \u001b[38;5;66;03m# sex_side： 为哪种性别的用户推荐， male为男性 female为女性\u001b[39;00m\n\u001b[0;32m---> 10\u001b[0m     OSM2 \u001b[38;5;241m=\u001b[39m \u001b[43mModel\u001b[49m\u001b[43m(\u001b[49m\u001b[43msense\u001b[49m\u001b[38;5;241;43m=\u001b[39;49m\u001b[43mMAXIMIZE\u001b[49m\u001b[43m,\u001b[49m\u001b[43m \u001b[49m\u001b[43msolver_name\u001b[49m\u001b[38;5;241;43m=\u001b[39;49m\u001b[43mGRB\u001b[49m\u001b[43m)\u001b[49m \u001b[38;5;66;03m# 生成模型 调用Gurobi求解器\u001b[39;00m\n\u001b[1;32m     12\u001b[0m     \u001b[38;5;66;03m# 创建男女全集合，根据数据不同需要变动         \u001b[39;00m\n\u001b[1;32m     13\u001b[0m     num_female \u001b[38;5;241m=\u001b[39m \u001b[38;5;241m68\u001b[39m\n",
      "File \u001b[0;32m~/anaconda3/lib/python3.10/site-packages/mip/model.py:85\u001b[0m, in \u001b[0;36mModel.__init__\u001b[0;34m(self, name, sense, solver_name, solver)\u001b[0m\n\u001b[1;32m     82\u001b[0m \u001b[38;5;28;01mif\u001b[39;00m \u001b[38;5;28mself\u001b[39m\u001b[38;5;241m.\u001b[39msolver_name\u001b[38;5;241m.\u001b[39mupper() \u001b[38;5;129;01min\u001b[39;00m [\u001b[38;5;124m\"\u001b[39m\u001b[38;5;124mGUROBI\u001b[39m\u001b[38;5;124m\"\u001b[39m, \u001b[38;5;124m\"\u001b[39m\u001b[38;5;124mGRB\u001b[39m\u001b[38;5;124m\"\u001b[39m]:\n\u001b[1;32m     83\u001b[0m     \u001b[38;5;28;01mimport\u001b[39;00m \u001b[38;5;21;01mmip\u001b[39;00m\u001b[38;5;21;01m.\u001b[39;00m\u001b[38;5;21;01mgurobi\u001b[39;00m\n\u001b[0;32m---> 85\u001b[0m     \u001b[38;5;28mself\u001b[39m\u001b[38;5;241m.\u001b[39msolver \u001b[38;5;241m=\u001b[39m \u001b[43mmip\u001b[49m\u001b[38;5;241;43m.\u001b[39;49m\u001b[43mgurobi\u001b[49m\u001b[38;5;241;43m.\u001b[39;49m\u001b[43mSolverGurobi\u001b[49m\u001b[43m(\u001b[49m\u001b[38;5;28;43mself\u001b[39;49m\u001b[43m,\u001b[49m\u001b[43m \u001b[49m\u001b[43mname\u001b[49m\u001b[43m,\u001b[49m\u001b[43m \u001b[49m\u001b[43msense\u001b[49m\u001b[43m)\u001b[49m\n\u001b[1;32m     86\u001b[0m \u001b[38;5;28;01melif\u001b[39;00m \u001b[38;5;28mself\u001b[39m\u001b[38;5;241m.\u001b[39msolver_name\u001b[38;5;241m.\u001b[39mupper() \u001b[38;5;241m==\u001b[39m \u001b[38;5;124m\"\u001b[39m\u001b[38;5;124mCBC\u001b[39m\u001b[38;5;124m\"\u001b[39m:\n\u001b[1;32m     87\u001b[0m     \u001b[38;5;28;01mimport\u001b[39;00m \u001b[38;5;21;01mmip\u001b[39;00m\u001b[38;5;21;01m.\u001b[39;00m\u001b[38;5;21;01mcbc\u001b[39;00m\n",
      "File \u001b[0;32m~/anaconda3/lib/python3.10/site-packages/mip/gurobi.py:343\u001b[0m, in \u001b[0;36mSolverGurobi.__init__\u001b[0;34m(self, model, name, sense, modelp)\u001b[0m\n\u001b[1;32m    340\u001b[0m \u001b[38;5;124;03m\"\"\"modelp should be informed if a model should not be created,\u001b[39;00m\n\u001b[1;32m    341\u001b[0m \u001b[38;5;124;03mbut only allow access to an existing one\"\"\"\u001b[39;00m\n\u001b[1;32m    342\u001b[0m \u001b[38;5;28;01mif\u001b[39;00m \u001b[38;5;129;01mnot\u001b[39;00m found:\n\u001b[0;32m--> 343\u001b[0m     \u001b[38;5;28;01mraise\u001b[39;00m \u001b[38;5;167;01mFileNotFoundError\u001b[39;00m(\n\u001b[1;32m    344\u001b[0m         \u001b[38;5;124;03m\"\"\"Gurobi not found. Plase check if the\u001b[39;00m\n\u001b[1;32m    345\u001b[0m \u001b[38;5;124;03m    Gurobi dynamic loadable library is reachable or define\u001b[39;00m\n\u001b[1;32m    346\u001b[0m \u001b[38;5;124;03m    the environment variable GUROBI_HOME indicating the gurobi\u001b[39;00m\n\u001b[1;32m    347\u001b[0m \u001b[38;5;124;03m    installation path.\u001b[39;00m\n\u001b[1;32m    348\u001b[0m \u001b[38;5;124;03m    \"\"\"\u001b[39;00m\n\u001b[1;32m    349\u001b[0m     )\n\u001b[1;32m    351\u001b[0m \u001b[38;5;28msuper\u001b[39m()\u001b[38;5;241m.\u001b[39m\u001b[38;5;21m__init__\u001b[39m(model, name, sense)\n\u001b[1;32m    353\u001b[0m \u001b[38;5;66;03m# setting class members to default values\u001b[39;00m\n",
      "\u001b[0;31mFileNotFoundError\u001b[0m: Gurobi not found. Plase check if the\n            Gurobi dynamic loadable library is reachable or define\n            the environment variable GUROBI_HOME indicating the gurobi\n            installation path.\n            "
     ]
    }
   ],
   "source": [
    "sol2 = OneSideMatching2(m_to_w_score_matrix, 2, sex_side = 'male')\n",
    "sol2[0]"
   ]
  },
  {
   "cell_type": "code",
   "execution_count": 73,
   "metadata": {},
   "outputs": [
    {
     "data": {
      "text/plain": [
       "array([[13.65, 14.65, 13.65, ..., 12.65,  7.15, 13.4 ],\n",
       "       [31.25, 32.9 , 32.25, ..., 28.75, 26.25, 24.75],\n",
       "       [21.5 , 47.  , 39.75, ..., 28.75, 37.5 , 45.  ],\n",
       "       ...,\n",
       "       [22.5 , 37.5 , 52.25, ..., 28.75, 33.75, 32.25],\n",
       "       [37.5 , 47.5 , 63.75, ..., 46.25, 46.25, 22.25],\n",
       "       [23.65, 14.65, 13.65, ..., 22.65,  7.15, 10.9 ]])"
      ]
     },
     "execution_count": 73,
     "metadata": {},
     "output_type": "execute_result"
    }
   ],
   "source": []
  },
  {
   "cell_type": "code",
   "execution_count": 80,
   "metadata": {},
   "outputs": [
    {
     "name": "stdout",
     "output_type": "stream",
     "text": [
      "[51, 5, 43, 24, 60, 65, 4, 38, 48, 28, 27, 44, 37, 32, 22, 9, 40, 6, 47, 11, 13, 0, 53, 45, 56, 55, 31, 57, 33, 1, 67, 21, 20, 49, 36, 7, 12, 64, 2, 63, 26, 34, 61, 41, 23, 8, 46, 62, 15, 54, 52, 30, 25, 14, 29, 50, 35, 16, 58, 59, 39, 17, 66, 18, 19, 3, 10, 42]\n"
     ]
    }
   ],
   "source": [
    "def gale_shapley_modified_v2(m_to_w_score_matrix, w_to_m_score_matrix, M_dict, W_dict):\n",
    "    num_m, num_w = len(m_to_w_score_matrix), len(w_to_m_score_matrix)\n",
    "    \n",
    "    # 初始化每个人的状态为未匹配\n",
    "    matched_men = [-1] * num_m\n",
    "    matched_women = [-1] * num_w\n",
    "\n",
    "    # 男生向女生匹配的顺序\n",
    "    proposals_order = []\n",
    "    for m in range(num_m):\n",
    "        preferences = sorted(W_dict[m], key=lambda w: -m_to_w_score_matrix[m][w])\n",
    "        new_order = []\n",
    "        while preferences:\n",
    "            new_order.append(preferences.pop(0))  # his favorite\n",
    "            if preferences:\n",
    "                new_order.append(preferences.pop(len(preferences) // 2))  # middle one\n",
    "        proposals_order.append(new_order)\n",
    "\n",
    "    free_men = list(range(num_m))\n",
    "    while free_men:\n",
    "        m = free_men.pop(0)\n",
    "        \n",
    "        while proposals_order[m]:\n",
    "            w = proposals_order[m].pop(0)\n",
    "\n",
    "            # 如果女生w还未匹配或者她更喜欢新的匹配者，并且她也接受这个男生\n",
    "            if (matched_women[w] == -1 or w_to_m_score_matrix[w][m] > w_to_m_score_matrix[w][matched_women[w]]) and m in W_dict[w]:\n",
    "                if matched_women[w] != -1:\n",
    "                    free_men.append(matched_women[w])\n",
    "\n",
    "                # 更新匹配\n",
    "                matched_women[w] = m\n",
    "                matched_men[m] = w\n",
    "                break\n",
    "\n",
    "            # 否则男生被拒绝，继续下一个选择\n",
    "            else:\n",
    "                continue\n",
    "\n",
    "    return matched_men\n",
    "\n",
    "# 输出匹配结果\n",
    "print(gale_shapley_modified_v2(m_to_w_score_matrix, w_to_m_score_matrix, M_dict, W_dict))"
   ]
  },
  {
   "cell_type": "code",
   "execution_count": null,
   "metadata": {},
   "outputs": [],
   "source": []
  },
  {
   "cell_type": "code",
   "execution_count": null,
   "metadata": {},
   "outputs": [],
   "source": []
  }
 ],
 "metadata": {
  "kernelspec": {
   "display_name": "Python 3 (ipykernel)",
   "language": "python",
   "name": "python3"
  },
  "language_info": {
   "codemirror_mode": {
    "name": "ipython",
    "version": 3
   },
   "file_extension": ".py",
   "mimetype": "text/x-python",
   "name": "python",
   "nbconvert_exporter": "python",
   "pygments_lexer": "ipython3",
   "version": "3.10.9"
  }
 },
 "nbformat": 4,
 "nbformat_minor": 4
}
