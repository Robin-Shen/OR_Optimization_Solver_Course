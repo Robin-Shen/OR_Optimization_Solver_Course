{
 "cells": [
  {
   "cell_type": "code",
   "execution_count": 1,
   "id": "d287ce87-f98e-4ef8-9561-f8500a60227b",
   "metadata": {
    "tags": []
   },
   "outputs": [],
   "source": [
    "#Import packages\n",
    "import numpy as np"
   ]
  },
  {
   "cell_type": "code",
   "execution_count": 20,
   "id": "c5bc3a17-6462-4b5d-ac23-5f13e19c2f7f",
   "metadata": {
    "tags": []
   },
   "outputs": [],
   "source": [
    "#Simulation of preference table\n",
    "def generatePreferenceTable(n):\n",
    "    '''\n",
    "    Given an even number n, return a dictionary of list of length (n-1). Each list represents the preference list of a person.\n",
    "    The list of person k is randomly generated permutation of ndarray excluding k.\n",
    "    \n",
    "    Input:\n",
    "    n: An even number.\n",
    "    \n",
    "    Output:\n",
    "    dic: dictionary with key values 1,...,n\n",
    "    '''\n",
    "    dic = dict();\n",
    "    \n",
    "    for i in np.arange(1,n+1):\n",
    "        toBePermuted = np.arange(1,n+1);\n",
    "        dic[i] = np.random.permutation(np.delete(toBePermuted, np.where(toBePermuted == i)));\n",
    "    \n",
    "    return dic;\n",
    "\n",
    "#Pretty Print function\n",
    "def printPreferenceTable(table):\n",
    "    '''\n",
    "    Give a preference table represented by a dictionary of ndarray, print it line by line.\n",
    "    \n",
    "    Input:\n",
    "    table:A dictionary of ndarray.\n",
    "    '''\n",
    "    \n",
    "    for i in np.arange(1, len(table)+1):\n",
    "        print(f'{i}  {table[i]}');\n",
    "    \n",
    "    "
   ]
  },
  {
   "cell_type": "code",
   "execution_count": 47,
   "id": "470c0eb8-be6b-4ca3-af78-394ee6c53a63",
   "metadata": {
    "tags": []
   },
   "outputs": [
    {
     "name": "stdout",
     "output_type": "stream",
     "text": [
      "1  [4 2 3]\n",
      "2  [4 3 1]\n",
      "3  [4 1 2]\n",
      "4  [2 3 1]\n"
     ]
    }
   ],
   "source": [
    "#Example\n",
    "dic = generatePreferenceTable(4)\n",
    "printPreferenceTable(dic)"
   ]
  },
  {
   "cell_type": "code",
   "execution_count": 37,
   "id": "2fbf476e-7853-4a43-988b-0132f5d4021a",
   "metadata": {
    "tags": []
   },
   "outputs": [],
   "source": [
    "#Helper functions\n",
    "\n",
    "def deletePair(table,i,j):\n",
    "    '''\n",
    "    Delete the pair {i,j} from the table.\n",
    "    '''\n",
    "\n",
    "    table[i] = np.delete(table[i], np.where(table[i] == j));\n",
    "    table[j] = np.delete(table[j], np.where(table[j] == i));\n",
    "    \n",
    "def deleteLessPreferable(table, x, y):\n",
    "    '''\n",
    "    Delete any pair {x',y} where y prefers x than x'\n",
    "    '''\n",
    "    #First get y's preference list\n",
    "    yList = table[y];\n",
    "    #Get x's position in y's preference list\n",
    "    xPos = (np.where(yList == x))[0];\n",
    "    \n",
    "    #Delete pairs after xPos\n",
    "    for i in np.arange(xPos + 1, len(yList)):\n",
    "        deletePair(table, yList[i], y);"
   ]
  },
  {
   "cell_type": "code",
   "execution_count": 45,
   "id": "38551ea0-fd57-48b2-a292-b05679468ae0",
   "metadata": {
    "tags": []
   },
   "outputs": [],
   "source": [
    "#Phase I function\n",
    "def srmPhaseI(table):\n",
    "    '''\n",
    "    Given a preference table represented by a dictionary of ndarray, executing Phase I of Stable Roommate Maching.\n",
    "    \n",
    "    Input:\n",
    "    table: A dictionary of list\n",
    "           table[k] is the preference list of person k.\n",
    "           The preference list needs to be complete.\n",
    "           \n",
    "    Output:\n",
    "    Raise exception if no stable matching exists.\n",
    "    '''\n",
    "    \n",
    "    #Number of persons\n",
    "    n = len(table);\n",
    "    \n",
    "    #semiengagement dictionary\n",
    "    #semiengagementDic[y] = x if y accepts x's proposal, in this case, we say x is semiengaged with y\n",
    "    semiengagementDic = dict();\n",
    "    \n",
    "    #Assign each person to be free\n",
    "    freeList = list(np.arange(1, n+1));\n",
    "    \n",
    "    while len(freeList) != 0:\n",
    "        x = freeList.pop(); #Let x be any free person\n",
    "        \n",
    "        \n",
    "        #If one of the free person has empty list\n",
    "        if len(table[x]) == 0:\n",
    "            raise Exception(\"Empty list detected during Phase I. No stable matching.\")\n",
    "            \n",
    "        y = table[x][0]; #Let y be the first person on x's preference list\n",
    "        \n",
    "        #If z is semiengaged to y\n",
    "        if y in semiengagementDic:\n",
    "            #Then let z be free\n",
    "            freeList.append(semiengagementDic[y]);\n",
    "        \n",
    "        #Let x be semiengaged to y \n",
    "        semiengagementDic[y] = x;\n",
    "        \n",
    "        #Delete any pair {x',y} such that y prefers x than x'\n",
    "        deleteLessPreferable(table, x, y);\n",
    "        "
   ]
  },
  {
   "cell_type": "code",
   "execution_count": 96,
   "id": "78be75e2-9d37-4027-8937-d85e1b04a005",
   "metadata": {
    "tags": []
   },
   "outputs": [
    {
     "name": "stdout",
     "output_type": "stream",
     "text": [
      "1  [4 6 2 8 3 7 5]\n",
      "2  [4 8 6 3 5 1 7]\n",
      "3  [6 1 8 4 5 7 2]\n",
      "4  [2 3 8 6 7 5 1]\n",
      "5  [7 8 2 1 6 4 3]\n",
      "6  [5 2 4 3 8 1 7]\n",
      "7  [6 2 1 4 3 8 5]\n",
      "8  [2 4 3 1 6 7 5]\n",
      "1  [8 3 7]\n",
      "2  [4]\n",
      "3  [6 1 8]\n",
      "4  [2]\n",
      "5  [7 6]\n",
      "6  [5 3]\n",
      "7  [1 5]\n",
      "8  [3 1]\n"
     ]
    }
   ],
   "source": [
    "dic = generatePreferenceTable(8)\n",
    "printPreferenceTable(dic)\n",
    "\n",
    "srmPhaseI(dic);\n",
    "printPreferenceTable(dic);"
   ]
  },
  {
   "cell_type": "code",
   "execution_count": 210,
   "id": "ae6b7c65-a3d7-4174-a95b-85736cbd12a8",
   "metadata": {
    "tags": []
   },
   "outputs": [],
   "source": [
    "#Helper functions\n",
    "def findFirstNonsingle(table):\n",
    "    '''\n",
    "    Given a table, return the first person with nonsingle list.\n",
    "    If no such person exists, return 0.\n",
    "    '''\n",
    "    for i in np.arange(1, len(table)+1):\n",
    "        if len(table[i]) > 1:\n",
    "            return i;\n",
    "    \n",
    "    return 0;\n",
    "\n",
    "def nextPersonIntheRotation(table,i):\n",
    "    '''\n",
    "    Given a table and a person whose list is not single, find the next person in the Phase II SRM.\n",
    "    '''\n",
    "    \n",
    "    y = table[i][1];\n",
    "    \n",
    "    return table[y][-1]\n",
    "\n",
    "def eliminateRotation(table, rotation):\n",
    "    '''\n",
    "    Given a table and a rotation, eliminate rotation from table.\n",
    "    '''\n",
    "    \n",
    "    for i in range(1,len(rotation)):\n",
    "        x_i_minus_one = rotation[i-1][0];\n",
    "        yi = rotation[i][1];\n",
    "        if x_i_minus_one not in table[yi]:\n",
    "            raise Exception(\"Empty list detected during Phase II. No stable matching.\")\n",
    "        deleteLessPreferable(table, x_i_minus_one, yi);\n",
    "    \n",
    "    \n",
    "    if rotation[-1][0] not in table[rotation[0][1]]:\n",
    "        raise Exception(\"Empty list detected during Phase II. No stable matching.\")\n",
    "    deleteLessPreferable(table, rotation[-1][0], rotation[0][1]);\n",
    "    "
   ]
  },
  {
   "cell_type": "code",
   "execution_count": 105,
   "id": "b17304bc-7af6-4657-a2cc-68b8d3ef8aa2",
   "metadata": {
    "tags": []
   },
   "outputs": [
    {
     "name": "stdout",
     "output_type": "stream",
     "text": [
      "1  [5 7 3 8 4 2 6]\n",
      "2  [7 1 4 6 8 3 5]\n",
      "3  [4 8 2 6 5 7 1]\n",
      "4  [7 5 6 2 3 1 8]\n",
      "5  [1 3 4 8 7 6 2]\n",
      "6  [3 5 8 7 1 4 2]\n",
      "7  [8 3 5 1 6 2 4]\n",
      "8  [3 1 4 5 6 7 2]\n",
      "1  [5]\n",
      "2  [7 4]\n",
      "3  [4 8]\n",
      "4  [2 3]\n",
      "5  [1]\n",
      "6  [8 7]\n",
      "7  [6 2]\n",
      "8  [3 6]\n"
     ]
    },
    {
     "data": {
      "text/plain": [
       "2"
      ]
     },
     "execution_count": 105,
     "metadata": {},
     "output_type": "execute_result"
    }
   ],
   "source": [
    "dic = generatePreferenceTable(8)\n",
    "printPreferenceTable(dic)\n",
    "\n",
    "srmPhaseI(dic);\n",
    "printPreferenceTable(dic);\n",
    "\n",
    "findFirstNonsingle(dic)"
   ]
  },
  {
   "cell_type": "code",
   "execution_count": 113,
   "id": "19380ccc-bc09-46dd-ba39-764128268348",
   "metadata": {
    "tags": []
   },
   "outputs": [
    {
     "data": {
      "text/plain": [
       "2"
      ]
     },
     "execution_count": 113,
     "metadata": {},
     "output_type": "execute_result"
    }
   ],
   "source": [
    "nextPersonIntheRotation(dic, 6)"
   ]
  },
  {
   "cell_type": "code",
   "execution_count": 182,
   "id": "16d22e9e-c10f-4b0d-94f7-0abd53f7d64f",
   "metadata": {
    "tags": []
   },
   "outputs": [],
   "source": [
    "#Phase II function\n",
    "def srmPhaseII(table):\n",
    "    '''\n",
    "    Given a phase I preference table, either finish Phase II or raise the exception that no stable matching exists.\n",
    "    '''\n",
    "    \n",
    "    #Find the number of people\n",
    "    n = len(table);\n",
    "    \n",
    "    #Let x be the first person with nonsingle list\n",
    "    x = findFirstNonsingle(table);\n",
    "    \n",
    "    #If no such x exists, i.e., every person's list only contain one person, we find the stable matching.\n",
    "    if x == 0:\n",
    "        return\n",
    "    \n",
    "    #isEmptyList = False;\n",
    "    stack = list();\n",
    "    \n",
    "    while x <= n:\n",
    "        \n",
    "        #If the stack is emtpy\n",
    "        if len(stack) == 0:\n",
    "            while x <= n and len(table[x]) == 1:\n",
    "                x = x + 1;\n",
    "            if x <= n:\n",
    "                stack.append(x);\n",
    "        #If the stack is not empty       \n",
    "        else:\n",
    "            p = stack[-1]; #Let p be the person on top of the stack\n",
    "            p = nextPersonIntheRotation(table, p)\n",
    "            \n",
    "            while p not in stack:\n",
    "                stack.append(p);\n",
    "                p = nextPersonIntheRotation(table, p);\n",
    "            \n",
    "            pIter = stack.pop();\n",
    "            \n",
    "            rotation = list();\n",
    "            rotation.append((pIter, table[pIter][0]));\n",
    "            \n",
    "            while pIter != p:\n",
    "                pIter = stack.pop();\n",
    "                rotation.insert(0, (pIter, table[pIter][0]));\n",
    "            \n",
    "            eliminateRotation(table,rotation)\n",
    "                \n",
    "    \n",
    "    \n",
    "    "
   ]
  },
  {
   "cell_type": "code",
   "execution_count": 215,
   "id": "87c4d5a9-97b6-4cf0-9560-fcb6e814b290",
   "metadata": {
    "tags": []
   },
   "outputs": [
    {
     "name": "stdout",
     "output_type": "stream",
     "text": [
      "1  [4 2 5 6 8 3 7]\n",
      "2  [6 7 8 5 1 4 3]\n",
      "3  [7 4 2 5 1 6 8]\n",
      "4  [3 8 6 2 1 5 7]\n",
      "5  [3 7 6 4 1 2 8]\n",
      "6  [3 1 4 7 2 8 5]\n",
      "7  [1 3 8 4 6 5 2]\n",
      "8  [3 5 2 4 1 6 7]\n",
      "1  [2 5]\n",
      "2  [6 8 5 1]\n",
      "3  [7]\n",
      "4  [8 6]\n",
      "5  [1 2 8]\n",
      "6  [4 2]\n",
      "7  [3]\n",
      "8  [5 2 4]\n"
     ]
    }
   ],
   "source": [
    "dic = generatePreferenceTable(8)\n",
    "printPreferenceTable(dic)\n",
    "\n",
    "srmPhaseI(dic)\n",
    "printPreferenceTable(dic)"
   ]
  },
  {
   "cell_type": "code",
   "execution_count": 216,
   "id": "622c86b7-0a3d-438e-8b99-af3497e62141",
   "metadata": {
    "tags": []
   },
   "outputs": [
    {
     "name": "stdout",
     "output_type": "stream",
     "text": [
      "1  [5]\n",
      "2  [8]\n",
      "3  [7]\n",
      "4  [6]\n",
      "5  [1]\n",
      "6  [4]\n",
      "7  [3]\n",
      "8  [2]\n"
     ]
    }
   ],
   "source": [
    "srmPhaseII(dic);\n",
    "printPreferenceTable(dic);"
   ]
  }
 ],
 "metadata": {
  "kernelspec": {
   "display_name": "Python 3 (ipykernel)",
   "language": "python",
   "name": "python3"
  },
  "language_info": {
   "codemirror_mode": {
    "name": "ipython",
    "version": 3
   },
   "file_extension": ".py",
   "mimetype": "text/x-python",
   "name": "python",
   "nbconvert_exporter": "python",
   "pygments_lexer": "ipython3",
   "version": "3.11.3"
  }
 },
 "nbformat": 4,
 "nbformat_minor": 5
}
