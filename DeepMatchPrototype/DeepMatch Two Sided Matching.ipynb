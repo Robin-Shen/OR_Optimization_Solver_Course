{
 "cells": [
  {
   "cell_type": "code",
   "execution_count": 2,
   "metadata": {},
   "outputs": [],
   "source": [
    "import pandas as pd\n",
    "import numpy as np\n",
    "import time\n",
    "\n",
    "# 读取女性评分\n",
    "with open(\"Scores_for_Women.txt\", \"r\") as f:\n",
    "    w_to_m_data = f.readlines()[1:]\n",
    "\n",
    "# 转化为矩阵 w_to_m_score_matrix[i][j] 为 女性i对男性j的评分\n",
    "w_to_m_Scores = []    \n",
    "for i in range(len(w_to_m_data)):\n",
    "    w_to_m_Scores.append([float(ii) for ii in w_to_m_data[i].strip('\\n').split(' ')[:-1]])\n",
    "    \n",
    "w_to_m_score_matrix = np.array(w_to_m_Scores)\n",
    "\n",
    "# 读取女性评分\n",
    "with open(\"Scores_for_Men.txt\", \"r\") as f:\n",
    "    m_to_w_data = f.readlines()[1:]\n",
    "\n",
    "# 转化为矩阵 m_to_w_score_matrix[i][j] 为 男性i对女性j的评分    \n",
    "m_to_w_Scores = []    \n",
    "for i in range(len(m_to_w_data)):\n",
    "    m_to_w_Scores.append([float(ii) for ii in m_to_w_data[i].strip('\\n').split(' ')[:-1]])\n",
    "    \n",
    "m_to_w_score_matrix = np.array(m_to_w_Scores)\n",
    "\n",
    "\n",
    "# 读取拒绝列表\n",
    "with open(\"Reject_List.txt\", \"r\") as f:\n",
    "    reject_data = f.readlines()[1:]\n",
    "\n",
    "# 转化为列表 \n",
    "reject_list = []    \n",
    "for i in range(len(reject_data)):\n",
    "    reject_list.append([int(ii) for ii in reject_data[i].strip('\\n').split(' ')])\n",
    "    \n",
    "# print('reject_list', reject_list)\n",
    "\n",
    "W_dict = {} # 女性可接受词典\n",
    "M_dict = {} # 男性可接受词典\n",
    "\n",
    "for i in range(68):\n",
    "    W_dict[i] = [i for i in range(68)]\n",
    "    M_dict[i] = [i for i in range(68)]\n",
    "\n",
    "for j in reject_list: # 按拒绝列表移除不接受的用户\n",
    "    W_dict[j[0]].remove(j[1])\n",
    "    M_dict[j[1]].remove(j[0])\n"
   ]
  },
  {
   "cell_type": "code",
   "execution_count": 3,
   "metadata": {},
   "outputs": [],
   "source": [
    "# 使用调和平均数计算 双向评分\n",
    "weight_matrix = 2/(1/(m_to_w_score_matrix.T) + 1/w_to_m_score_matrix) # weight_matrix[0][1] score between women 1 and men 2"
   ]
  },
  {
   "cell_type": "markdown",
   "metadata": {},
   "source": [
    "# 计算 模型需要使用的参数"
   ]
  },
  {
   "cell_type": "code",
   "execution_count": 4,
   "metadata": {},
   "outputs": [],
   "source": [
    "# 根据单向分数矩阵  计算 女性用户 i 在 男性用户 j 中的排名 和 男性用户 j 在 女性用户 i 中的排名\n",
    "\n",
    "def find_max_position(input_array):\n",
    "    # 查找数组中最大的数的坐标（可能是多个）\n",
    "    # 如最大为 -1 则输出 [-1]\n",
    "    max_number = max(input_array)\n",
    "    if int(max_number) == -1:\n",
    "        return [-1]\n",
    "    index = np.where(max_number == input_array)[0]\n",
    "    return index\n",
    "\n",
    "w_m_score = w_to_m_score_matrix.copy()\n",
    "m_w_score = m_to_w_score_matrix.copy()\n",
    "\n",
    "w_to_m_rank = np.zeros((68,68))\n",
    "m_to_w_rank = np.zeros((68,68))\n",
    "\n",
    "\n",
    "\n",
    "for i in range(68):\n",
    "    rank = 1\n",
    "    while rank < 68:\n",
    "\n",
    "        index_save = find_max_position(w_m_score[i])\n",
    "#         print(index_save)\n",
    "        if -1 in index_save:\n",
    "            break\n",
    "\n",
    "        for ii in index_save:\n",
    "            w_m_score[i][ii] = -1\n",
    "            w_to_m_rank[i][ii] = rank\n",
    "\n",
    "        rank += 1\n",
    "\n",
    "        \n",
    "for i in range(68):\n",
    "    rank = 1\n",
    "    while rank < 68:\n",
    "\n",
    "        index_save = find_max_position(m_w_score[i])\n",
    "#         print(index_save)\n",
    "        if -1 in index_save:\n",
    "            break\n",
    "\n",
    "        for ii in index_save:\n",
    "            m_w_score[i][ii] = -1\n",
    "            m_to_w_rank[i][ii] = rank\n",
    "\n",
    "        rank += 1"
   ]
  },
  {
   "cell_type": "code",
   "execution_count": 5,
   "metadata": {},
   "outputs": [
    {
     "data": {
      "text/plain": [
       "array([12.,  9., 12.,  9.,  3.,  7., 21.,  2.,  9., 15.,  9.,  7., 11.,\n",
       "       12.,  4.,  7.,  6.,  9., 16., 26.,  9.,  9., 10., 20., 25.,  9.,\n",
       "        2.,  5.,  9.,  9.,  9.,  7.,  7., 12.,  7., 12., 14.,  7., 14.,\n",
       "        7.,  2.,  7., 19., 16., 23., 26.,  8., 18.,  9., 12., 23.,  2.,\n",
       "       12.,  9., 12., 14.,  2., 16., 22., 17.,  1.,  9.,  9., 26.,  9.,\n",
       "       15., 24., 13.])"
      ]
     },
     "execution_count": 5,
     "metadata": {},
     "output_type": "execute_result"
    }
   ],
   "source": [
    "m_to_w_rank[0] # 男性 0 的女性用户排名"
   ]
  },
  {
   "cell_type": "code",
   "execution_count": 6,
   "metadata": {},
   "outputs": [
    {
     "data": {
      "text/plain": [
       "array([29., 25., 35.,  2., 22.,  4.,  4., 18., 34., 26., 13., 11.,  1.,\n",
       "       22., 41., 20., 28., 24., 15.,  1., 31.,  4., 10., 15., 20.,  8.,\n",
       "       15., 32., 34.,  2., 33., 17., 19., 20.,  6.,  4., 26., 12., 27.,\n",
       "       24., 14., 21., 22.,  7., 16., 28., 36., 37., 25., 28., 20.,  5.,\n",
       "       15., 40.,  3., 15., 18., 39., 20.,  9., 15., 30., 25.,  4., 39.,\n",
       "       23., 26., 38.])"
      ]
     },
     "execution_count": 6,
     "metadata": {},
     "output_type": "execute_result"
    }
   ],
   "source": [
    "w_to_m_rank[0]"
   ]
  },
  {
   "cell_type": "markdown",
   "metadata": {},
   "source": [
    "# 计算 “更喜欢或漠然集合”"
   ]
  },
  {
   "cell_type": "code",
   "execution_count": 7,
   "metadata": {},
   "outputs": [],
   "source": [
    "w_to_m_better_or_indiff_than = [[[]for i in range(68)] for j in range(68)] # empty\n",
    "\n",
    "# women to men\n",
    "for i in range(68): # women i\n",
    "    for j in range(68): # men j\n",
    "        rank = w_to_m_rank[i][j]\n",
    "        set_of_men = list(np.where(w_to_m_rank[i] <= rank)[0])\n",
    "        w_to_m_better_or_indiff_than[i][j] = set_of_men\n",
    "        \n",
    "for r in reject_list:\n",
    "    for i in range(68):\n",
    "        if r[0] == i:\n",
    "            for j in range(68):\n",
    "                if r[1] in w_to_m_better_or_indiff_than[i][j]:\n",
    "                    w_to_m_better_or_indiff_than[i][j].remove(r[1])"
   ]
  },
  {
   "cell_type": "code",
   "execution_count": 8,
   "metadata": {},
   "outputs": [
    {
     "data": {
      "text/plain": [
       "[3, 12, 19, 29]"
      ]
     },
     "execution_count": 8,
     "metadata": {},
     "output_type": "execute_result"
    }
   ],
   "source": [
    "w_to_m_better_or_indiff_than[0][3] # the set of men that woman 0 ranks at the same level or better than man 3"
   ]
  },
  {
   "cell_type": "code",
   "execution_count": 9,
   "metadata": {},
   "outputs": [],
   "source": [
    "m_to_w_better_or_indiff_than = [[[]for i in range(68)] for j in range(68)] # empty\n",
    "# men to women\n",
    "for i in range(68): # men i\n",
    "    for j in range(68): # women j\n",
    "        rank = m_to_w_rank[i][j]\n",
    "        set_of_women = list(np.where(m_to_w_rank[i] <= rank)[0])\n",
    "        m_to_w_better_or_indiff_than[i][j] = set_of_women\n",
    "        \n",
    "for r in reject_list:\n",
    "    for i in range(68):\n",
    "        if r[1] == i:\n",
    "            for j in range(68):\n",
    "                if r[0] in m_to_w_better_or_indiff_than[i][j]:\n",
    "                    m_to_w_better_or_indiff_than[i][j].remove(r[0])"
   ]
  },
  {
   "cell_type": "code",
   "execution_count": 10,
   "metadata": {},
   "outputs": [
    {
     "data": {
      "text/plain": [
       "[4, 7, 11, 14, 15, 16, 26, 27, 31, 32, 34, 37, 39, 40, 41, 51, 56, 60]"
      ]
     },
     "execution_count": 10,
     "metadata": {},
     "output_type": "execute_result"
    }
   ],
   "source": [
    "m_to_w_better_or_indiff_than[0][5] # the set of women that man 0 ranks at the same level or better than woman 5"
   ]
  },
  {
   "cell_type": "markdown",
   "metadata": {},
   "source": [
    "# MIP SOLVER"
   ]
  },
  {
   "cell_type": "markdown",
   "metadata": {},
   "source": [
    "# Assignment Problem, MAX-WT-SMTI-GRP"
   ]
  },
  {
   "cell_type": "code",
   "execution_count": 11,
   "metadata": {},
   "outputs": [],
   "source": [
    "from mip import *\n",
    "\n",
    "\n",
    "\n",
    "def MIP_Solver(Optimize_Direction = 'MAXIMIZE', Additional_Const = 'stable', Show_infor = False, OF = 'Maximize Weight'):\n",
    "    # 最大化权重模型（无稳定性）：Optimize_Direction = 'MAXIMIZE', Additional_Const = 'unstable', OF = 'Maximize Weight' \n",
    "    # 稳定性模型：\n",
    "    # 1.最大化权重：Optimize_Direction = 'MAXIMIZE', Additional_Const = 'stable', OF = 'Maximize Weight' \n",
    "    # 2.最小化总rank：Optimize_Direction = 'MINIMIZE', Additional_Const = 'stable', OF = 'Egalitarian'  \n",
    "    \n",
    "    \n",
    "    if Optimize_Direction == 'MAXIMIZE':\n",
    "        \n",
    "        SMTI = Model(sense=MAXIMIZE, solver_name=GRB)\n",
    "        \n",
    "    elif Optimize_Direction == 'MINIMIZE':\n",
    "        \n",
    "        SMTI = Model(sense=MINIMIZE, solver_name=GRB)\n",
    "        \n",
    "    num_female = 68\n",
    "    num_male = 68\n",
    "\n",
    "    I = set(range(num_female))\n",
    "    J = set(range(num_male))\n",
    "\n",
    "    x = [[SMTI.add_var(var_type=BINARY) for j in J] for i in I] # Decision Variable\n",
    "\n",
    "    if OF == 'Maximize Weight':\n",
    "        SMTI.objective = xsum(weight_matrix[i][j]*x[i][j] for i in I for j in W_dict[i])\n",
    "    elif OF == 'Egalitarian':\n",
    "        SMTI.objective = xsum((m_to_w_rank[j][i] + w_to_m_rank[i][j])*x[i][j] for i in I for j in W_dict[i])\n",
    "\n",
    "    for i in I:\n",
    "        SMTI += xsum(x[i][j] for j in W_dict[i]) <= 1 \n",
    "\n",
    "    for j in J:\n",
    "        SMTI += xsum(x[i][j] for i in M_dict[j]) <= 1    \n",
    "\n",
    "    if Additional_Const == 'stable':\n",
    "        for i in I:\n",
    "            for j in W_dict[i]:\n",
    "                SMTI += 1 - xsum(x[i][q] for q in w_to_m_better_or_indiff_than[i][j]) <= xsum(x[p][j] for p in m_to_w_better_or_indiff_than[j][i])\n",
    "\n",
    "    start = time.perf_counter()\n",
    "    status = SMTI.optimize(max_seconds=600)\n",
    "    end = time.perf_counter()\n",
    "    runningtime = end-start\n",
    "    solution = []\n",
    "    \n",
    "    if Show_infor == True:\n",
    "        print('optimal solution score {} found'.format(SMTI.objective_value))\n",
    "        print('Best Possible:', SMTI.objective_bound)\n",
    "        print('model has {} vars, {} constraints and {} nzs'.format(SMTI.num_cols, SMTI.num_rows, SMTI.num_nz))\n",
    "    \n",
    "    for i in I:\n",
    "        for j in J:\n",
    "            if x[i][j].x > 0.99:\n",
    "                solution.append([i,j])\n",
    "    \n",
    "    print('runningtime',runningtime)\n",
    "    \n",
    "    return solution, SMTI.objective_value # 匹配结果，模型最优值"
   ]
  },
  {
   "cell_type": "code",
   "execution_count": 12,
   "metadata": {},
   "outputs": [
    {
     "name": "stdout",
     "output_type": "stream",
     "text": [
      "optimal solution score 3295.035193470071 found\n",
      "Best Possible: 3295.0351934700716\n",
      "model has 4624 vars, 136 constraints and 8844 nzs\n",
      "runningtime 0.04110990000026504\n"
     ]
    },
    {
     "data": {
      "text/plain": [
       "[[0, 12],\n",
       " [1, 31],\n",
       " [2, 52],\n",
       " [3, 65],\n",
       " [4, 7],\n",
       " [5, 55],\n",
       " [6, 27],\n",
       " [7, 22],\n",
       " [8, 48],\n",
       " [9, 19],\n",
       " [10, 66],\n",
       " [11, 58],\n",
       " [12, 57],\n",
       " [13, 20],\n",
       " [14, 14],\n",
       " [15, 1],\n",
       " [16, 53],\n",
       " [17, 35],\n",
       " [18, 37],\n",
       " [19, 32],\n",
       " [20, 38],\n",
       " [21, 63],\n",
       " [22, 30],\n",
       " [23, 10],\n",
       " [24, 39],\n",
       " [25, 43],\n",
       " [26, 18],\n",
       " [27, 46],\n",
       " [28, 9],\n",
       " [29, 54],\n",
       " [30, 17],\n",
       " [31, 26],\n",
       " [32, 15],\n",
       " [33, 3],\n",
       " [34, 41],\n",
       " [35, 13],\n",
       " [36, 36],\n",
       " [37, 5],\n",
       " [38, 28],\n",
       " [39, 60],\n",
       " [40, 24],\n",
       " [41, 61],\n",
       " [42, 47],\n",
       " [43, 23],\n",
       " [44, 64],\n",
       " [45, 2],\n",
       " [46, 67],\n",
       " [47, 11],\n",
       " [48, 8],\n",
       " [49, 33],\n",
       " [50, 59],\n",
       " [51, 21],\n",
       " [52, 50],\n",
       " [53, 45],\n",
       " [54, 40],\n",
       " [55, 25],\n",
       " [56, 0],\n",
       " [57, 51],\n",
       " [58, 56],\n",
       " [59, 6],\n",
       " [60, 4],\n",
       " [61, 42],\n",
       " [62, 29],\n",
       " [63, 34],\n",
       " [64, 49],\n",
       " [65, 44],\n",
       " [66, 62],\n",
       " [67, 16]]"
      ]
     },
     "execution_count": 12,
     "metadata": {},
     "output_type": "execute_result"
    }
   ],
   "source": [
    "MIP_Solver(Optimize_Direction = 'MAXIMIZE', Additional_Const = 'unstable',Show_infor=True, OF = 'Maximize Weight')[0] # 最大化权重"
   ]
  },
  {
   "cell_type": "markdown",
   "metadata": {},
   "source": [
    "# Minimum Regret"
   ]
  },
  {
   "cell_type": "code",
   "execution_count": 13,
   "metadata": {},
   "outputs": [],
   "source": [
    "def MR(Show_infor = False): \n",
    "    # 优化方向：（附带稳定性）最小化最大rank\n",
    "    \n",
    "    SMTI = Model(sense=MINIMIZE, solver_name=GRB)\n",
    "        \n",
    "    num_female = 68\n",
    "    num_male = 68\n",
    "\n",
    "    I = set(range(num_female))\n",
    "    J = set(range(num_male))\n",
    "\n",
    "    x = [[SMTI.add_var(var_type=BINARY) for j in J] for i in I] # Decision Variable\n",
    "    z = SMTI.add_var()\n",
    "\n",
    "    SMTI.objective = z # Objective Function\n",
    "\n",
    "\n",
    "    for i in I:\n",
    "        SMTI += xsum(x[i][j] for j in W_dict[i]) <= 1 \n",
    "\n",
    "    for j in J:\n",
    "        SMTI += xsum(x[i][j] for i in M_dict[j]) <= 1    \n",
    "\n",
    "\n",
    "    for i in I:\n",
    "        for j in W_dict[i]:\n",
    "            SMTI += 1 - xsum(x[i][q] for q in w_to_m_better_or_indiff_than[i][j]) <= xsum(x[p][j] for p in m_to_w_better_or_indiff_than[j][i])\n",
    "\n",
    "    for i in I:\n",
    "        for j in W_dict[i]:\n",
    "            SMTI += m_to_w_rank[j][i]*x[i][j] <= z\n",
    "            SMTI += w_to_m_rank[i][j]*x[i][j] <= z\n",
    "    \n",
    "    start = time.perf_counter()\n",
    "    status = SMTI.optimize(max_seconds=600)\n",
    "    end = time.perf_counter()\n",
    "    runningtime = end-start\n",
    "\n",
    "    if Show_infor == True:\n",
    "        print('optimal solution score {} found'.format(SMTI.objective_value))\n",
    "        print('Best Possible:', SMTI.objective_bound)\n",
    "        print('model has {} vars, {} constraints and {} nzs'.format(SMTI.num_cols, SMTI.num_rows, SMTI.num_nz))\n",
    "\n",
    "    solution = []\n",
    "    \n",
    "    \n",
    "    for i in I:\n",
    "        for j in J:\n",
    "            if x[i][j].x > 0.99:\n",
    "                solution.append([i,j])\n",
    "    print('runningtime',runningtime)                \n",
    "    return solution, SMTI.objective_value # 匹配结果，模型最优值"
   ]
  },
  {
   "cell_type": "code",
   "execution_count": 14,
   "metadata": {},
   "outputs": [
    {
     "name": "stdout",
     "output_type": "stream",
     "text": [
      "runningtime 0.749356500000431\n"
     ]
    },
    {
     "data": {
      "text/plain": [
       "[[0, 3],\n",
       " [1, 63],\n",
       " [2, 52],\n",
       " [3, 13],\n",
       " [4, 22],\n",
       " [5, 55],\n",
       " [6, 17],\n",
       " [7, 44],\n",
       " [8, 48],\n",
       " [9, 15],\n",
       " [10, 66],\n",
       " [11, 58],\n",
       " [12, 62],\n",
       " [13, 20],\n",
       " [14, 53],\n",
       " [15, 1],\n",
       " [16, 4],\n",
       " [17, 18],\n",
       " [18, 37],\n",
       " [19, 32],\n",
       " [20, 38],\n",
       " [21, 29],\n",
       " [22, 14],\n",
       " [23, 67],\n",
       " [24, 34],\n",
       " [25, 43],\n",
       " [26, 16],\n",
       " [27, 10],\n",
       " [28, 9],\n",
       " [29, 54],\n",
       " [30, 51],\n",
       " [31, 26],\n",
       " [32, 61],\n",
       " [33, 2],\n",
       " [34, 41],\n",
       " [35, 39],\n",
       " [36, 36],\n",
       " [37, 12],\n",
       " [38, 28],\n",
       " [39, 60],\n",
       " [40, 5],\n",
       " [41, 31],\n",
       " [42, 59],\n",
       " [43, 23],\n",
       " [44, 64],\n",
       " [45, 47],\n",
       " [46, 46],\n",
       " [47, 11],\n",
       " [48, 8],\n",
       " [49, 33],\n",
       " [50, 24],\n",
       " [51, 0],\n",
       " [52, 50],\n",
       " [53, 45],\n",
       " [54, 49],\n",
       " [55, 25],\n",
       " [56, 7],\n",
       " [57, 27],\n",
       " [58, 56],\n",
       " [59, 6],\n",
       " [60, 65],\n",
       " [61, 42],\n",
       " [62, 21],\n",
       " [63, 19],\n",
       " [64, 35],\n",
       " [65, 40],\n",
       " [66, 57],\n",
       " [67, 30]]"
      ]
     },
     "execution_count": 14,
     "metadata": {},
     "output_type": "execute_result"
    }
   ],
   "source": [
    "MR(Show_infor = False)[0]"
   ]
  },
  {
   "cell_type": "markdown",
   "metadata": {},
   "source": [
    "# SESM"
   ]
  },
  {
   "cell_type": "code",
   "execution_count": 15,
   "metadata": {},
   "outputs": [],
   "source": [
    "def SESM(Show_infor = False):\n",
    "    # 优化方向：（附带稳定性）最小化男女公平差异\n",
    "    \n",
    "    SMTI = Model(sense=MINIMIZE, solver_name=GRB)\n",
    "        \n",
    "    num_female = 68\n",
    "    num_male = 68\n",
    "\n",
    "    I = set(range(num_female))\n",
    "    J = set(range(num_male))\n",
    "\n",
    "    x = [[SMTI.add_var(var_type=BINARY) for j in J] for i in I] # Decision Variable\n",
    "    z = SMTI.add_var()\n",
    "\n",
    "    SMTI.objective = z # Objective Function\n",
    "\n",
    "\n",
    "    for i in I:\n",
    "        SMTI += xsum(x[i][j] for j in W_dict[i]) <= 1 \n",
    "\n",
    "    for j in J:\n",
    "        SMTI += xsum(x[i][j] for i in M_dict[j]) <= 1    \n",
    "\n",
    "\n",
    "    for i in I:\n",
    "        for j in W_dict[i]:\n",
    "            SMTI += 1 - xsum(x[i][q] for q in w_to_m_better_or_indiff_than[i][j]) <= xsum(x[p][j] for p in m_to_w_better_or_indiff_than[j][i])\n",
    "\n",
    "    SMTI += xsum((m_to_w_rank[j][i] - w_to_m_rank[i][j])*x[i][j] for i in I for j in W_dict[i]) <= z\n",
    "    \n",
    "    SMTI += xsum((w_to_m_rank[i][j] - m_to_w_rank[j][i])*x[i][j] for i in I for j in W_dict[i]) <= z\n",
    "    \n",
    "    start = time.perf_counter()\n",
    "    status = SMTI.optimize(max_seconds=600)\n",
    "    end = time.perf_counter()\n",
    "    runningtime = end-start\n",
    "\n",
    "    if Show_infor == True:\n",
    "        print('optimal solution score {} found'.format(SMTI.objective_value))\n",
    "        print('Best Possible:', SMTI.objective_bound)\n",
    "        print('model has {} vars, {} constraints and {} nzs'.format(SMTI.num_cols, SMTI.num_rows, SMTI.num_nz))\n",
    "\n",
    "    \n",
    "    solution = []\n",
    "    \n",
    "    \n",
    "    for i in I:\n",
    "        for j in J:\n",
    "            if x[i][j].x > 0.99:\n",
    "                solution.append([i,j])\n",
    "                \n",
    "    print('runningtime',runningtime)                \n",
    "    return solution, SMTI.objective_value # 匹配结果，模型最优值"
   ]
  },
  {
   "cell_type": "code",
   "execution_count": 16,
   "metadata": {},
   "outputs": [
    {
     "name": "stdout",
     "output_type": "stream",
     "text": [
      "optimal solution score 70.0 found\n",
      "Best Possible: 70.0\n",
      "model has 4625 vars, 4560 constraints and 319164 nzs\n",
      "runningtime 1.071756400000595\n"
     ]
    },
    {
     "data": {
      "text/plain": [
       "[[0, 12],\n",
       " [1, 63],\n",
       " [2, 52],\n",
       " [3, 23],\n",
       " [4, 22],\n",
       " [5, 55],\n",
       " [6, 17],\n",
       " [7, 35],\n",
       " [8, 48],\n",
       " [9, 15],\n",
       " [10, 66],\n",
       " [11, 58],\n",
       " [12, 62],\n",
       " [13, 20],\n",
       " [14, 53],\n",
       " [15, 1],\n",
       " [16, 4],\n",
       " [17, 18],\n",
       " [18, 37],\n",
       " [19, 32],\n",
       " [20, 38],\n",
       " [21, 39],\n",
       " [22, 14],\n",
       " [23, 5],\n",
       " [24, 3],\n",
       " [25, 43],\n",
       " [26, 16],\n",
       " [27, 10],\n",
       " [28, 9],\n",
       " [29, 54],\n",
       " [30, 51],\n",
       " [31, 26],\n",
       " [32, 61],\n",
       " [33, 59],\n",
       " [34, 41],\n",
       " [35, 13],\n",
       " [36, 36],\n",
       " [37, 19],\n",
       " [38, 28],\n",
       " [39, 60],\n",
       " [40, 29],\n",
       " [41, 6],\n",
       " [42, 65],\n",
       " [43, 2],\n",
       " [44, 64],\n",
       " [45, 47],\n",
       " [46, 46],\n",
       " [47, 11],\n",
       " [48, 8],\n",
       " [49, 33],\n",
       " [50, 24],\n",
       " [51, 30],\n",
       " [52, 50],\n",
       " [53, 45],\n",
       " [54, 7],\n",
       " [55, 25],\n",
       " [56, 67],\n",
       " [57, 27],\n",
       " [58, 56],\n",
       " [59, 31],\n",
       " [60, 0],\n",
       " [61, 42],\n",
       " [62, 21],\n",
       " [63, 34],\n",
       " [64, 49],\n",
       " [65, 40],\n",
       " [66, 57],\n",
       " [67, 44]]"
      ]
     },
     "execution_count": 16,
     "metadata": {},
     "output_type": "execute_result"
    }
   ],
   "source": [
    "SESM(Show_infor = True)[0]"
   ]
  },
  {
   "cell_type": "code",
   "execution_count": 18,
   "metadata": {
    "scrolled": false
   },
   "outputs": [
    {
     "name": "stdout",
     "output_type": "stream",
     "text": [
      "optimal solution score 3295.035193470071 found\n",
      "Best Possible: 3295.0351934700716\n",
      "model has 4624 vars, 136 constraints and 8844 nzs\n",
      "runningtime 0.036986300000535266\n",
      "optimal solution score 3220.737435583144 found\n",
      "Best Possible: 3220.737435583144\n",
      "model has 4624 vars, 4558 constraints and 310628 nzs\n",
      "runningtime 0.49758419999943726\n",
      "optimal solution score 777.0 found\n",
      "Best Possible: 777.0\n",
      "model has 4624 vars, 4558 constraints and 310628 nzs\n",
      "runningtime 0.914850000000115\n",
      "optimal solution score 28.0 found\n",
      "Best Possible: 28.0\n",
      "model has 4625 vars, 13402 constraints and 328316 nzs\n",
      "runningtime 0.7577535999998872\n",
      "optimal solution score 70.0 found\n",
      "Best Possible: 70.0\n",
      "model has 4625 vars, 4560 constraints and 319164 nzs\n",
      "runningtime 1.0955309999999372\n"
     ]
    }
   ],
   "source": [
    "MAX_WT_solution     =  MIP_Solver(Optimize_Direction = 'MAXIMIZE', Additional_Const = 'unstable', Show_infor=True, OF = 'Maximize Weight' )[0]\n",
    "MAX_WT_stable_solution =  MIP_Solver(Optimize_Direction = 'MAXIMIZE', Additional_Const = 'stable',Show_infor=True)[0]\n",
    "Egalitarian_solution= MIP_Solver(Optimize_Direction = 'MINIMIZE', Additional_Const = 'stable', OF = 'Egalitarian',Show_infor=True)[0]\n",
    "MR_solution         = MR(Show_infor=True)[0]\n",
    "SESM_solution       = SESM(Show_infor=True)[0]"
   ]
  },
  {
   "cell_type": "code",
   "execution_count": 19,
   "metadata": {},
   "outputs": [
    {
     "data": {
      "text/plain": [
       "[[0, 12],\n",
       " [1, 31],\n",
       " [2, 52],\n",
       " [3, 65],\n",
       " [4, 7],\n",
       " [5, 55],\n",
       " [6, 27],\n",
       " [7, 22],\n",
       " [8, 48],\n",
       " [9, 19],\n",
       " [10, 66],\n",
       " [11, 58],\n",
       " [12, 57],\n",
       " [13, 20],\n",
       " [14, 14],\n",
       " [15, 1],\n",
       " [16, 53],\n",
       " [17, 35],\n",
       " [18, 37],\n",
       " [19, 32],\n",
       " [20, 38],\n",
       " [21, 63],\n",
       " [22, 30],\n",
       " [23, 10],\n",
       " [24, 39],\n",
       " [25, 43],\n",
       " [26, 18],\n",
       " [27, 46],\n",
       " [28, 9],\n",
       " [29, 54],\n",
       " [30, 17],\n",
       " [31, 26],\n",
       " [32, 15],\n",
       " [33, 3],\n",
       " [34, 41],\n",
       " [35, 13],\n",
       " [36, 36],\n",
       " [37, 5],\n",
       " [38, 28],\n",
       " [39, 60],\n",
       " [40, 24],\n",
       " [41, 61],\n",
       " [42, 47],\n",
       " [43, 23],\n",
       " [44, 64],\n",
       " [45, 2],\n",
       " [46, 67],\n",
       " [47, 11],\n",
       " [48, 8],\n",
       " [49, 33],\n",
       " [50, 59],\n",
       " [51, 21],\n",
       " [52, 50],\n",
       " [53, 45],\n",
       " [54, 40],\n",
       " [55, 25],\n",
       " [56, 0],\n",
       " [57, 51],\n",
       " [58, 56],\n",
       " [59, 6],\n",
       " [60, 4],\n",
       " [61, 42],\n",
       " [62, 29],\n",
       " [63, 34],\n",
       " [64, 49],\n",
       " [65, 44],\n",
       " [66, 62],\n",
       " [67, 16]]"
      ]
     },
     "execution_count": 19,
     "metadata": {},
     "output_type": "execute_result"
    }
   ],
   "source": [
    "MAX_WT_solution"
   ]
  },
  {
   "cell_type": "code",
   "execution_count": null,
   "metadata": {},
   "outputs": [],
   "source": []
  }
 ],
 "metadata": {
  "kernelspec": {
   "display_name": "Python 3 (ipykernel)",
   "language": "python",
   "name": "python3"
  },
  "language_info": {
   "codemirror_mode": {
    "name": "ipython",
    "version": 3
   },
   "file_extension": ".py",
   "mimetype": "text/x-python",
   "name": "python",
   "nbconvert_exporter": "python",
   "pygments_lexer": "ipython3",
   "version": "3.8.11"
  }
 },
 "nbformat": 4,
 "nbformat_minor": 4
}
