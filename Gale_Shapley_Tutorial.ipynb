{
 "cells": [
  {
   "cell_type": "code",
   "execution_count": 12,
   "id": "c6f6274f",
   "metadata": {},
   "outputs": [],
   "source": [
    "import random"
   ]
  },
  {
   "cell_type": "code",
   "execution_count": 32,
   "id": "02f2d5d2",
   "metadata": {},
   "outputs": [],
   "source": [
    "# This function returns true if\n",
    "# woman 'w' prefers man 'm1' over man 'm'\n",
    "def wPrefersM1OverM(prefer, w, m, m1):\n",
    "     \n",
    "    # Check if w prefers m over her\n",
    "    # current engagement m1\n",
    "    for i in range(N_m):\n",
    "         \n",
    "        # If m1 comes before m in list of w,\n",
    "        # then w prefers her current engagement,\n",
    "        # don't do anything\n",
    "        if (prefer[w][i] == m1):\n",
    "            return True\n",
    " \n",
    "        # If m comes before m1 in w's list,\n",
    "        # then free her current engagement\n",
    "        # and engage her with m\n",
    "        if (prefer[w][i] == m):\n",
    "            return False\n"
   ]
  },
  {
   "cell_type": "code",
   "execution_count": 109,
   "id": "c549c530",
   "metadata": {},
   "outputs": [],
   "source": [
    "# Prints stable matching for N boys and N girls.\n",
    "# Boys are numbered as 0 to N-1.\n",
    "# Girls are numbered as N to 2N-1.\n",
    "def stableMarriage(prefer):\n",
    "     \n",
    "    # Stores partner of women. This is our output\n",
    "    # array that stores passing information.\n",
    "    # The value of wPartner[i] indicates the partner\n",
    "    # assigned to woman N+i. Note that the woman numbers\n",
    "    # between N and 2*N-1. The value -1 indicates\n",
    "    # that (N+i)'th woman is free\n",
    "    wPartner = [-1 for i in range(N_w)]\n",
    " \n",
    "    # An array to store availability of men.\n",
    "    # If mFree[i] is false, then man 'i' is free,\n",
    "    # otherwise engaged.\n",
    "    mFree = [False for i in range(N_m)]\n",
    " \n",
    "    freeCount = N_m\n",
    " \n",
    "    # While there are free men\n",
    "    while (freeCount > max(N_m - N_w, 0) ):\n",
    "         \n",
    "        # Pick the first free man (we could pick any)\n",
    "        m = 0\n",
    "        while (m < N_m):\n",
    "            if (mFree[m] == False):\n",
    "                break\n",
    "            m += 1\n",
    " \n",
    "        # One by one go to all women according to\n",
    "        # m's preferences. Here m is the picked free man\n",
    "        i = 0\n",
    "        while i < N_w and mFree[m] == False:\n",
    "            w = prefer[m][i]\n",
    " \n",
    "            # The woman of preference is free,\n",
    "            # w and m become partners (Note that\n",
    "            # the partnership maybe changed later).\n",
    "            # So we can say they are engaged not married\n",
    "            if (wPartner[w - N_m] == -1):\n",
    "                wPartner[w - N_m] = m\n",
    "                mFree[m] = True\n",
    "                freeCount -= 1\n",
    " \n",
    "            else:\n",
    "                 \n",
    "                # If w is not free\n",
    "                # Find current engagement of w\n",
    "                m1 = wPartner[w - N_m]\n",
    " \n",
    "                # If w prefers m over her current engagement m1,\n",
    "                # then break the engagement between w and m1 and\n",
    "                # engage m with w.\n",
    "                if (wPrefersM1OverM(prefer, w, m, m1) == False):\n",
    "                    wPartner[w - N_m] = m\n",
    "                    mFree[m] = True\n",
    "                    mFree[m1] = False\n",
    "            i += 1\n",
    " \n",
    "            # End of Else\n",
    "        # End of the for loop that goes\n",
    "        # to all women in m's list\n",
    "    # End of main while loop\n",
    "    # Print solution\n",
    "    print(\"Woman \", \" Man\")\n",
    "    for i in range(N_w):\n",
    "        print(i + N_m, \"\\t\", wPartner[i])"
   ]
  },
  {
   "cell_type": "code",
   "execution_count": 110,
   "id": "6f804938",
   "metadata": {},
   "outputs": [
    {
     "name": "stdout",
     "output_type": "stream",
     "text": [
      "Woman   Man\n",
      "4 \t 2\n",
      "5 \t 1\n",
      "6 \t 3\n",
      "7 \t 0\n"
     ]
    }
   ],
   "source": [
    "N_m = 4\n",
    "N_w = 4\n",
    "# Driver Code\n",
    "prefer = [[7, 5, 6, 4], [5, 4, 6, 7],\n",
    "          [4, 5, 6, 7], [4, 5, 6, 7],\n",
    "          [0, 1, 2, 3], [0, 1, 2, 3],\n",
    "          [0, 1, 2, 3], [0, 1, 2, 3]]\n",
    " \n",
    "stableMarriage(prefer)"
   ]
  },
  {
   "cell_type": "code",
   "execution_count": 111,
   "id": "a4bc8c00",
   "metadata": {
    "scrolled": true
   },
   "outputs": [
    {
     "name": "stdout",
     "output_type": "stream",
     "text": [
      "Woman   Man\n",
      "5 \t 2\n",
      "6 \t 1\n",
      "7 \t 3\n",
      "8 \t 0\n"
     ]
    }
   ],
   "source": [
    "N_m = 5\n",
    "N_w = 4\n",
    "# Driver Code\n",
    "prefer = [[8, 6, 7, 5], [6, 5, 7, 8],\n",
    "          [5, 6, 7, 8], [5, 6, 7, 8], [5, 8, 6, 7],\n",
    "          [0, 1, 2, 3, 4], [0, 1, 2, 3, 4],\n",
    "          [0, 1, 2, 3, 4], [0, 1, 2, 3, 4]]\n",
    " \n",
    "stableMarriage(prefer)"
   ]
  },
  {
   "cell_type": "code",
   "execution_count": 112,
   "id": "2bc3c8bb",
   "metadata": {
    "scrolled": true
   },
   "outputs": [
    {
     "name": "stdout",
     "output_type": "stream",
     "text": [
      "Woman   Man\n",
      "4 \t 2\n",
      "5 \t 1\n",
      "6 \t 3\n",
      "7 \t -1\n",
      "8 \t 0\n"
     ]
    }
   ],
   "source": [
    "# Number of Men and Women\n",
    "N_m = 4\n",
    "N_w = 5\n",
    "# Driver Code\n",
    "prefer = [[8, 7, 5, 6, 4], [5, 4, 8, 6, 7],\n",
    "          [4, 8, 5, 6, 7], [4, 5, 6, 7, 8],\n",
    "          [0, 1, 2, 3], [0, 1, 2, 3],\n",
    "          [0, 1, 2, 3], [0, 1, 2, 3], [0, 1, 2, 3]]\n",
    " \n",
    "stableMarriage(prefer)"
   ]
  },
  {
   "cell_type": "code",
   "execution_count": null,
   "id": "acd90956",
   "metadata": {},
   "outputs": [],
   "source": []
  },
  {
   "cell_type": "code",
   "execution_count": null,
   "id": "eb96a5af",
   "metadata": {
    "scrolled": true
   },
   "outputs": [],
   "source": []
  },
  {
   "cell_type": "code",
   "execution_count": null,
   "id": "48525f10",
   "metadata": {},
   "outputs": [],
   "source": []
  },
  {
   "cell_type": "code",
   "execution_count": null,
   "id": "5c728ef2",
   "metadata": {},
   "outputs": [],
   "source": []
  }
 ],
 "metadata": {
  "@webio": {
   "lastCommId": null,
   "lastKernelId": null
  },
  "kernelspec": {
   "display_name": "Python 3 (ipykernel)",
   "language": "python",
   "name": "python3"
  },
  "language_info": {
   "codemirror_mode": {
    "name": "ipython",
    "version": 3
   },
   "file_extension": ".py",
   "mimetype": "text/x-python",
   "name": "python",
   "nbconvert_exporter": "python",
   "pygments_lexer": "ipython3",
   "version": "3.8.11"
  }
 },
 "nbformat": 4,
 "nbformat_minor": 5
}
